{
 "cells": [
  {
   "cell_type": "markdown",
   "id": "8d9e5cc2",
   "metadata": {},
   "source": [
    "# Assignment 1 "
   ]
  },
  {
   "cell_type": "markdown",
   "id": "08b11ac6",
   "metadata": {},
   "source": [
    "#### Q1. Using Python script as a calculator\n",
    "Create the variables n, r, p and assign them values 10, 5, and 100 respectively. Then\n",
    "evaluate the following expression in the Python console.\n",
    "                  𝐴 = 𝑝 (1 + 𝑟/ 100)n\n",
    "+ a. 100\n",
    "+ b. 162.89\n",
    "+ c. 189\n",
    "+ d. None of the above"
   ]
  },
  {
   "cell_type": "code",
   "execution_count": 1,
   "id": "d2521b96",
   "metadata": {},
   "outputs": [
    {
     "name": "stdout",
     "output_type": "stream",
     "text": [
      "1050.0\n"
     ]
    }
   ],
   "source": [
    "n = 10\n",
    "r = 5\n",
    "p = 100\n",
    "\n",
    "A = p * (1 + r/100) * n\n",
    "print(A)"
   ]
  },
  {
   "cell_type": "markdown",
   "id": "9a26988c",
   "metadata": {},
   "source": [
    "##### Ans= d.) None of the above"
   ]
  },
  {
   "cell_type": "markdown",
   "id": "60a8f08a",
   "metadata": {},
   "source": [
    "# *****************************************************************************************"
   ]
  },
  {
   "cell_type": "markdown",
   "id": "062e872c",
   "metadata": {},
   "source": [
    "#### Q2. In a given string format operation, how will you print the given string.\n",
    "+ A = 10\n",
    "+ B = 20\n",
    "+ Str = \"There are {} students in the class, with {} who play at least one sport.\"\n",
    "+ a. print(string.format(a,b))\n",
    "+ b. print(string+a+b)\n",
    "+ c. print(string.format(b,a))\n",
    "+ d. None of the above"
   ]
  },
  {
   "cell_type": "code",
   "execution_count": 2,
   "id": "2e6c0316",
   "metadata": {},
   "outputs": [],
   "source": [
    "A = '10'\n",
    "B = '20'\n",
    "Str = \"There are {} students in the class, with {} who play at least one sport.\""
   ]
  },
  {
   "cell_type": "code",
   "execution_count": 3,
   "id": "b02cadfd",
   "metadata": {},
   "outputs": [
    {
     "name": "stdout",
     "output_type": "stream",
     "text": [
      "There are 10 students in the class, with 20 who play at least one sport.\n",
      "There are {} students in the class, with {} who play at least one sport.1020\n",
      "There are 20 students in the class, with 10 who play at least one sport.\n"
     ]
    }
   ],
   "source": [
    "print(Str.format(A,B))\n",
    "print(Str+A+B)\n",
    "print(Str.format(B,A))"
   ]
  },
  {
   "cell_type": "markdown",
   "id": "57351737",
   "metadata": {},
   "source": [
    "##### Ans= c.) print(Str.format(B,A))"
   ]
  },
  {
   "cell_type": "markdown",
   "id": "e701cc70",
   "metadata": {},
   "source": [
    "# *****************************************************************************************"
   ]
  },
  {
   "cell_type": "markdown",
   "id": "e36414dc",
   "metadata": {},
   "source": [
    "#### Q3. In a given sample string, How do you print a double quoted string in between a regular string using the escape character?\n",
    "Sample output = It goes without saying, “Time is Money”, and none can deny it.\n",
    "+ a. print(“It goes without saying, \\“Time is Money\\”, and none can deny it.”)\n",
    "+ b. print(“It goes without saying, \\Time is Money\\, and none can deny it.”)\n",
    "+ c. print(“It goes without saying” + “Time is Money” + “and none can deny it.”)\n",
    "+ d. None of the above.\n"
   ]
  },
  {
   "cell_type": "code",
   "execution_count": 4,
   "id": "2303381c",
   "metadata": {
    "scrolled": true
   },
   "outputs": [
    {
     "name": "stdout",
     "output_type": "stream",
     "text": [
      "It goes without saying, \"Time is Money\", and none can deny it.\n"
     ]
    }
   ],
   "source": [
    "print(\"It goes without saying, \\\"Time is Money\\\", and none can deny it.\")"
   ]
  },
  {
   "cell_type": "code",
   "execution_count": 5,
   "id": "69626fcf",
   "metadata": {
    "scrolled": true
   },
   "outputs": [
    {
     "name": "stdout",
     "output_type": "stream",
     "text": [
      "It goes without saying, \\Time is Money, and none can deny it.\n"
     ]
    }
   ],
   "source": [
    "print(\"It goes without saying, \\Time is Money, and none can deny it.\")"
   ]
  },
  {
   "cell_type": "code",
   "execution_count": 6,
   "id": "96946572",
   "metadata": {
    "scrolled": true
   },
   "outputs": [
    {
     "name": "stdout",
     "output_type": "stream",
     "text": [
      "It goes without sayingTime is Moneyand none can deny it.\n"
     ]
    }
   ],
   "source": [
    "print(\"It goes without saying\" + \"Time is Money\" + \"and none can deny it.\")"
   ]
  },
  {
   "cell_type": "markdown",
   "id": "98d1f2f3",
   "metadata": {},
   "source": [
    "##### Ans = a.) print(\"It goes without saying, \\\"Time is Money\\\", and none can deny it.\")"
   ]
  },
  {
   "cell_type": "markdown",
   "id": "5a629761",
   "metadata": {},
   "source": [
    "## *********************************************************************************************************"
   ]
  },
  {
   "cell_type": "markdown",
   "id": "27b567e0",
   "metadata": {},
   "source": [
    "#### Q4. What will be the output of the following code?\n",
    "x = lambda a,b: a//b,\n",
    "x(10,3)\n",
    "+ a. 3.3333333333\n",
    "+ b. 3\n",
    "+ c. 30\n",
    "+ d. 1000\n"
   ]
  },
  {
   "cell_type": "code",
   "execution_count": 7,
   "id": "60b512f0",
   "metadata": {},
   "outputs": [
    {
     "data": {
      "text/plain": [
       "3"
      ]
     },
     "execution_count": 7,
     "metadata": {},
     "output_type": "execute_result"
    }
   ],
   "source": [
    "x = lambda a,b: a//b\n",
    "x(10,3)"
   ]
  },
  {
   "cell_type": "markdown",
   "id": "14020dcd",
   "metadata": {},
   "source": [
    "##### Ans = b.) 3"
   ]
  },
  {
   "cell_type": "markdown",
   "id": "f022c641",
   "metadata": {},
   "source": [
    "# *****************************************************************************************"
   ]
  },
  {
   "cell_type": "markdown",
   "id": "92a7ed9b",
   "metadata": {},
   "source": [
    "#### Q5. What will be the output of the following code?\n",
    "A = 10\n",
    "B = 12,\n",
    "print(\"Smaller\") if A == B else print(\"Greater\") if A < B else print(\"True\")\n",
    "+ a. True\n",
    "+ b. Smaller\n",
    "+ c. Greater\n",
    "+ d. None of the above"
   ]
  },
  {
   "cell_type": "code",
   "execution_count": 8,
   "id": "2ac3c1f7",
   "metadata": {},
   "outputs": [
    {
     "name": "stdout",
     "output_type": "stream",
     "text": [
      "Greater\n"
     ]
    }
   ],
   "source": [
    "A = 10\n",
    "B = 12\n",
    "print(\"Smaller\") if A == B else print(\"Greater\") if A < B else print(\"True\")"
   ]
  },
  {
   "cell_type": "markdown",
   "id": "c3f62018",
   "metadata": {},
   "source": [
    "##### Ans=c.) Greater"
   ]
  },
  {
   "cell_type": "markdown",
   "id": "1e5e07fa",
   "metadata": {},
   "source": [
    "# *****************************************************************************************"
   ]
  },
  {
   "cell_type": "markdown",
   "id": "b58f9973",
   "metadata": {},
   "source": [
    "#### Q6. What will be the output of the following code?\n",
    "\n",
    "+ import os\n",
    "+ import numpy as np\n",
    "+ my_list1 = [2,7,3,5,4,6]\n",
    "+ print(my_list)\n",
    "+ arr_1 = numpy.array(my_list1,dtype = int)\n",
    "+ print(arr_1)\n",
    "#########################################################################\n",
    "+ a. [2 7 3 5 4 6]\n",
    "+ b. TypeError\n",
    "+ c. NameError: name 'numpy' is not defined\n",
    "+ d. None of the above\n"
   ]
  },
  {
   "cell_type": "code",
   "execution_count": 9,
   "id": "4a63095b",
   "metadata": {},
   "outputs": [
    {
     "ename": "NameError",
     "evalue": "name 'my_list' is not defined",
     "output_type": "error",
     "traceback": [
      "\u001b[1;31m---------------------------------------------------------------------------\u001b[0m",
      "\u001b[1;31mNameError\u001b[0m                                 Traceback (most recent call last)",
      "Cell \u001b[1;32mIn[9], line 4\u001b[0m\n\u001b[0;32m      2\u001b[0m \u001b[38;5;28;01mimport\u001b[39;00m \u001b[38;5;21;01mnumpy\u001b[39;00m \u001b[38;5;28;01mas\u001b[39;00m \u001b[38;5;21;01mnp\u001b[39;00m\n\u001b[0;32m      3\u001b[0m my_list1 \u001b[38;5;241m=\u001b[39m [\u001b[38;5;241m2\u001b[39m,\u001b[38;5;241m7\u001b[39m,\u001b[38;5;241m3\u001b[39m,\u001b[38;5;241m5\u001b[39m,\u001b[38;5;241m4\u001b[39m,\u001b[38;5;241m6\u001b[39m]\n\u001b[1;32m----> 4\u001b[0m \u001b[38;5;28mprint\u001b[39m(my_list)\n\u001b[0;32m      5\u001b[0m arr_1 \u001b[38;5;241m=\u001b[39m numpy\u001b[38;5;241m.\u001b[39marray(my_list1, dtype \u001b[38;5;241m=\u001b[39m \u001b[38;5;28mint\u001b[39m)\n\u001b[0;32m      6\u001b[0m \u001b[38;5;28mprint\u001b[39m(arr_1)\n",
      "\u001b[1;31mNameError\u001b[0m: name 'my_list' is not defined"
     ]
    }
   ],
   "source": [
    "import os\n",
    "import numpy as np\n",
    "my_list1 = [2,7,3,5,4,6]\n",
    "print(my_list)\n",
    "arr_1 = numpy.array(my_list1, dtype = int)\n",
    "print(arr_1)"
   ]
  },
  {
   "cell_type": "markdown",
   "id": "c55be87f",
   "metadata": {},
   "source": [
    "##### Ans = c.) NameError: name 'numpy' is not defined"
   ]
  },
  {
   "cell_type": "markdown",
   "id": "a6242d2e",
   "metadata": {},
   "source": [
    "# *****************************************************************************************"
   ]
  },
  {
   "cell_type": "markdown",
   "id": "d79f3bb1",
   "metadata": {},
   "source": [
    "#### Q7. Create a string called ‘string’ with the value as “Machine Learning”. Which code(s) is/are appropriate to slice the substring “Learn”?\n",
    "+ a. string[slice(13,8,1)]\n",
    "+ b. string[slice(1,8,1)]\n",
    "+ c. string[8:14]\n",
    "+ d. string[slice(8,13,1)]"
   ]
  },
  {
   "cell_type": "code",
   "execution_count": 10,
   "id": "2031e35b",
   "metadata": {},
   "outputs": [],
   "source": [
    "string = \"Machine Learning\""
   ]
  },
  {
   "cell_type": "code",
   "execution_count": 11,
   "id": "e7947723",
   "metadata": {},
   "outputs": [
    {
     "data": {
      "text/plain": [
       "''"
      ]
     },
     "execution_count": 11,
     "metadata": {},
     "output_type": "execute_result"
    }
   ],
   "source": [
    "string[slice(13,8,1)]"
   ]
  },
  {
   "cell_type": "code",
   "execution_count": 12,
   "id": "2a961fc8",
   "metadata": {},
   "outputs": [
    {
     "data": {
      "text/plain": [
       "'achine '"
      ]
     },
     "execution_count": 12,
     "metadata": {},
     "output_type": "execute_result"
    }
   ],
   "source": [
    "string[slice(1,8,1)]"
   ]
  },
  {
   "cell_type": "code",
   "execution_count": 13,
   "id": "300eac62",
   "metadata": {},
   "outputs": [
    {
     "data": {
      "text/plain": [
       "'Learni'"
      ]
     },
     "execution_count": 13,
     "metadata": {},
     "output_type": "execute_result"
    }
   ],
   "source": [
    "string[8:14]"
   ]
  },
  {
   "cell_type": "code",
   "execution_count": 14,
   "id": "de72ae10",
   "metadata": {},
   "outputs": [
    {
     "data": {
      "text/plain": [
       "'Learn'"
      ]
     },
     "execution_count": 14,
     "metadata": {},
     "output_type": "execute_result"
    }
   ],
   "source": [
    "string[slice(8,13,1)]"
   ]
  },
  {
   "cell_type": "markdown",
   "id": "fb63331b",
   "metadata": {},
   "source": [
    "##### Ans = d.) string[slice(8,13,1)]"
   ]
  },
  {
   "cell_type": "markdown",
   "id": "b1b94861",
   "metadata": {},
   "source": [
    "# *****************************************************************************************"
   ]
  },
  {
   "cell_type": "markdown",
   "id": "e7c61ac3",
   "metadata": {},
   "source": [
    "#### Q8. Create a sequence of numbers from 10 to 25 and increment by 4. What is the index of the value 18?\n",
    "+ a. 3\n",
    "+ b. 2\n",
    "+ c. 0\n",
    "+ d. 1"
   ]
  },
  {
   "cell_type": "code",
   "execution_count": 15,
   "id": "196b86ff",
   "metadata": {},
   "outputs": [
    {
     "data": {
      "text/plain": [
       "2"
      ]
     },
     "execution_count": 15,
     "metadata": {},
     "output_type": "execute_result"
    }
   ],
   "source": [
    "numbers = list(range(10,26,4))\n",
    "numbers.index(18)"
   ]
  },
  {
   "cell_type": "markdown",
   "id": "d580e181",
   "metadata": {},
   "source": [
    "##### Ans = b.) 2"
   ]
  },
  {
   "cell_type": "markdown",
   "id": "7f4cfe8c",
   "metadata": {},
   "source": [
    "# *****************************************************************************************"
   ]
  },
  {
   "cell_type": "markdown",
   "id": "d3290931",
   "metadata": {},
   "source": [
    "#### Q9. Which of the following is true with respect to the below codes?\n",
    "+ num1 = 5**4\n",
    "+ num2 = pow(5,4)\n",
    "+ print(num1,num2)\n",
    "#########################################################################\n",
    "+ a. num1 = num2\n",
    "+ b. num1 ≠ num2\n",
    "+ c. num1 < num2\n",
    "+ d. num1 > num2"
   ]
  },
  {
   "cell_type": "code",
   "execution_count": 16,
   "id": "10a19174",
   "metadata": {},
   "outputs": [
    {
     "name": "stdout",
     "output_type": "stream",
     "text": [
      "625 625\n"
     ]
    }
   ],
   "source": [
    "num1 = 5**4\n",
    "num2 = pow(5,4)\n",
    "print(num1,num2)"
   ]
  },
  {
   "cell_type": "markdown",
   "id": "55646d8f",
   "metadata": {},
   "source": [
    "### OR"
   ]
  },
  {
   "cell_type": "code",
   "execution_count": 17,
   "id": "56654049",
   "metadata": {},
   "outputs": [
    {
     "name": "stdout",
     "output_type": "stream",
     "text": [
      "num1 = num2\n"
     ]
    }
   ],
   "source": [
    "num1 = 5**4\n",
    "num2 = pow(5,4)\n",
    "\n",
    "if num1 == num2:\n",
    "    print('num1 = num2')\n",
    "\n",
    "elif num1 != num2:\n",
    "    print('num1  ≠ num2')\n",
    "    \n",
    "elif num1 < num2:\n",
    "    print('num1 < num2')\n",
    "\n",
    "elif num1 > num2:\n",
    "    print('num1 > num2')\n",
    "    \n",
    "else:\n",
    "    print('not valid')"
   ]
  },
  {
   "cell_type": "markdown",
   "id": "6ead40ff",
   "metadata": {},
   "source": [
    "##### Ans = a.) num1 = num2"
   ]
  },
  {
   "cell_type": "markdown",
   "id": "6cb8d847",
   "metadata": {},
   "source": [
    "# *****************************************************************************************"
   ]
  },
  {
   "cell_type": "markdown",
   "id": "a315bd8d",
   "metadata": {},
   "source": [
    "#### Q10.A Python NameError exception is raised when: -\n",
    "+ a. Trying to access a variable which has not been defined\n",
    "+ b. Trying to access a key in a dictionary that does not exist\n",
    "+ c. Accessing a column with misspelled column name\n",
    "+ d. Accessing the function from a module that has not been imported"
   ]
  },
  {
   "cell_type": "markdown",
   "id": "56a724e3",
   "metadata": {},
   "source": [
    "##### Ans = a.) Trying to access a variable which has not been defined"
   ]
  },
  {
   "cell_type": "markdown",
   "id": "e16b642e",
   "metadata": {},
   "source": [
    "# *****************************************************************************************"
   ]
  },
  {
   "cell_type": "markdown",
   "id": "81f5374d",
   "metadata": {},
   "source": [
    "#### Q11.What type of exception will be raised for the code given below?\n",
    "\n",
    "+ x = \"string\"\n",
    "+ int(x)\n",
    " #########################################################################\n",
    "+ a. NameError\n",
    "+ b. KeyError\n",
    "+ c. ValueError\n",
    "+ d. AttributeError"
   ]
  },
  {
   "cell_type": "code",
   "execution_count": 18,
   "id": "c03db6e4",
   "metadata": {},
   "outputs": [
    {
     "ename": "ValueError",
     "evalue": "invalid literal for int() with base 10: 'string'",
     "output_type": "error",
     "traceback": [
      "\u001b[1;31m---------------------------------------------------------------------------\u001b[0m",
      "\u001b[1;31mValueError\u001b[0m                                Traceback (most recent call last)",
      "Cell \u001b[1;32mIn[18], line 2\u001b[0m\n\u001b[0;32m      1\u001b[0m x \u001b[38;5;241m=\u001b[39m \u001b[38;5;124m\"\u001b[39m\u001b[38;5;124mstring\u001b[39m\u001b[38;5;124m\"\u001b[39m\n\u001b[1;32m----> 2\u001b[0m \u001b[38;5;28mint\u001b[39m(x)\n",
      "\u001b[1;31mValueError\u001b[0m: invalid literal for int() with base 10: 'string'"
     ]
    }
   ],
   "source": [
    "x = \"string\"\n",
    "int(x)"
   ]
  },
  {
   "cell_type": "markdown",
   "id": "aab62644",
   "metadata": {},
   "source": [
    "##### Ans = c.) ValueError"
   ]
  },
  {
   "cell_type": "markdown",
   "id": "1185b7f1",
   "metadata": {},
   "source": [
    "# *****************************************************************************************"
   ]
  },
  {
   "cell_type": "markdown",
   "id": "b7376372",
   "metadata": {},
   "source": [
    "#### Q12.A FileNotFoundError exception is raised by operating system errors when: -\n",
    "+ a. Trying to create a file or directory which already exists\n",
    "+ b. A file or directory is requested but does not exist in the working directory\n",
    "+ c. Trying to run an operation without the adequate access rights\n",
    "+ d. A directory operation, os.listdir() is requested on something which is not a directory"
   ]
  },
  {
   "cell_type": "markdown",
   "id": "3bfa1761",
   "metadata": {},
   "source": [
    "##### Ans = b.) A file or directory is requested but does not exist in the working directory"
   ]
  },
  {
   "cell_type": "markdown",
   "id": "3e007070",
   "metadata": {},
   "source": [
    "# *****************************************************************************************"
   ]
  },
  {
   "cell_type": "markdown",
   "id": "a86c3236",
   "metadata": {},
   "source": [
    "#### Q13.Consider a variable Z. The value of Z is \"ID-5632\". Data type of Z is: -\n",
    "+ a. Complex\n",
    "+ b. Character\n",
    "+ c. Integer\n",
    "+ d. Boolean\n"
   ]
  },
  {
   "cell_type": "code",
   "execution_count": 19,
   "id": "ff9fd590",
   "metadata": {},
   "outputs": [
    {
     "data": {
      "text/plain": [
       "str"
      ]
     },
     "execution_count": 19,
     "metadata": {},
     "output_type": "execute_result"
    }
   ],
   "source": [
    "Z =\"ID-5632\"\n",
    "type(Z)"
   ]
  },
  {
   "cell_type": "markdown",
   "id": "402b4471",
   "metadata": {},
   "source": [
    "##### Ans = b.) Character"
   ]
  },
  {
   "cell_type": "markdown",
   "id": "4df8f764",
   "metadata": {},
   "source": [
    "# *****************************************************************************************"
   ]
  },
  {
   "cell_type": "markdown",
   "id": "32722dc5",
   "metadata": {},
   "source": [
    "#### Q14.Which of the following variable(s) are character data type?\n",
    "+ a. K= “4”\n",
    "+ b. J= “Welcome”\n",
    "+ c. L= “?”\n",
    "+ d. All of the above"
   ]
  },
  {
   "cell_type": "code",
   "execution_count": 20,
   "id": "350ebd11",
   "metadata": {},
   "outputs": [
    {
     "data": {
      "text/plain": [
       "str"
      ]
     },
     "execution_count": 20,
     "metadata": {},
     "output_type": "execute_result"
    }
   ],
   "source": [
    "K=\"4\"\n",
    "type(K)"
   ]
  },
  {
   "cell_type": "code",
   "execution_count": 21,
   "id": "12614e51",
   "metadata": {},
   "outputs": [
    {
     "data": {
      "text/plain": [
       "str"
      ]
     },
     "execution_count": 21,
     "metadata": {},
     "output_type": "execute_result"
    }
   ],
   "source": [
    "J=\"Welcome\"\n",
    "type(J)"
   ]
  },
  {
   "cell_type": "code",
   "execution_count": 22,
   "id": "7488a985",
   "metadata": {},
   "outputs": [
    {
     "data": {
      "text/plain": [
       "str"
      ]
     },
     "execution_count": 22,
     "metadata": {},
     "output_type": "execute_result"
    }
   ],
   "source": [
    "L=\"?\"\n",
    "type(L)"
   ]
  },
  {
   "cell_type": "markdown",
   "id": "178b716e",
   "metadata": {},
   "source": [
    "##### Ans = d.) All of the above"
   ]
  },
  {
   "cell_type": "markdown",
   "id": "a59c759a",
   "metadata": {},
   "source": [
    "# *****************************************************************************************"
   ]
  },
  {
   "cell_type": "markdown",
   "id": "0fa5f416",
   "metadata": {},
   "source": [
    "#### Q15.Choose the symbol/s that does not have the ability to convert any values to string?\n",
    "+ a. ( )\n",
    "+ b. “ ”\n",
    "+ c. {}\n",
    "+ d. #\n"
   ]
  },
  {
   "cell_type": "raw",
   "id": "87b61ac3",
   "metadata": {},
   "source": [
    " Ans = d.) #"
   ]
  },
  {
   "cell_type": "markdown",
   "id": "2d84e349",
   "metadata": {},
   "source": [
    "# *****************************************************************************************"
   ]
  },
  {
   "cell_type": "markdown",
   "id": "3f6f46f5",
   "metadata": {},
   "source": [
    "#### Q16.Create a dictionary ‘Country’ that maps the following countries to their capitals respectively:\n",
    "+ Country = India China Japan Qatar France\n",
    "+ State = Delhi Beijing Tokyo Doha Marseilles\n",
    "#########################################################################\n",
    "Find 2 commands to replace “Marseilles” with “Paris” is:"
   ]
  },
  {
   "cell_type": "code",
   "execution_count": 23,
   "id": "3f32d0e2",
   "metadata": {},
   "outputs": [],
   "source": [
    "Country = {'India':'Delhi','China':'Beijing','Japan':'Tokyo','Qatar':'Doha','France':'Marseilles'}"
   ]
  },
  {
   "cell_type": "code",
   "execution_count": 24,
   "id": "b3875cf8",
   "metadata": {
    "scrolled": true
   },
   "outputs": [
    {
     "data": {
      "text/plain": [
       "{'India': 'Delhi',\n",
       " 'China': 'Beijing',\n",
       " 'Japan': 'Tokyo',\n",
       " 'Qatar': 'Doha',\n",
       " 'France': 'Marseilles'}"
      ]
     },
     "execution_count": 24,
     "metadata": {},
     "output_type": "execute_result"
    }
   ],
   "source": [
    "Country"
   ]
  },
  {
   "cell_type": "markdown",
   "id": "21bc1aa7",
   "metadata": {},
   "source": [
    "#### If we want to replace \"Marseilles\" with \"Paris\" permanently we can use the function mentioned below ="
   ]
  },
  {
   "cell_type": "code",
   "execution_count": 25,
   "id": "781dc0c9",
   "metadata": {},
   "outputs": [],
   "source": [
    "Country['France']='Paris'"
   ]
  },
  {
   "cell_type": "code",
   "execution_count": 26,
   "id": "346ca22a",
   "metadata": {
    "scrolled": true
   },
   "outputs": [
    {
     "data": {
      "text/plain": [
       "{'India': 'Delhi',\n",
       " 'China': 'Beijing',\n",
       " 'Japan': 'Tokyo',\n",
       " 'Qatar': 'Doha',\n",
       " 'France': 'Paris'}"
      ]
     },
     "execution_count": 26,
     "metadata": {},
     "output_type": "execute_result"
    }
   ],
   "source": [
    "Country"
   ]
  },
  {
   "cell_type": "code",
   "execution_count": 27,
   "id": "df3ef3c9",
   "metadata": {},
   "outputs": [],
   "source": [
    "Country.update({'France': 'Paris'})"
   ]
  },
  {
   "cell_type": "code",
   "execution_count": 28,
   "id": "2edb82d0",
   "metadata": {},
   "outputs": [
    {
     "data": {
      "text/plain": [
       "{'India': 'Delhi',\n",
       " 'China': 'Beijing',\n",
       " 'Japan': 'Tokyo',\n",
       " 'Qatar': 'Doha',\n",
       " 'France': 'Paris'}"
      ]
     },
     "execution_count": 28,
     "metadata": {},
     "output_type": "execute_result"
    }
   ],
   "source": [
    "Country"
   ]
  },
  {
   "cell_type": "markdown",
   "id": "4a1022d5",
   "metadata": {},
   "source": [
    "#### Or if we want to replace temporarily then use this function ="
   ]
  },
  {
   "cell_type": "code",
   "execution_count": 29,
   "id": "df1bd186",
   "metadata": {},
   "outputs": [],
   "source": [
    "Country = {'India':'Delhi','China':'Beijing','Japan':'Tokyo','Qatar':'Doha','France':'Marseilles'}"
   ]
  },
  {
   "cell_type": "code",
   "execution_count": 30,
   "id": "69adcbda",
   "metadata": {},
   "outputs": [],
   "source": [
    "Country_Copy = Country"
   ]
  },
  {
   "cell_type": "code",
   "execution_count": 31,
   "id": "7eab1433",
   "metadata": {
    "scrolled": true
   },
   "outputs": [
    {
     "data": {
      "text/plain": [
       "{'India': 'Delhi',\n",
       " 'China': 'Beijing',\n",
       " 'Japan': 'Tokyo',\n",
       " 'Qatar': 'Doha',\n",
       " 'France': 'Marseilles'}"
      ]
     },
     "execution_count": 31,
     "metadata": {},
     "output_type": "execute_result"
    }
   ],
   "source": [
    "Country_Copy"
   ]
  },
  {
   "cell_type": "markdown",
   "id": "83ee6bc3",
   "metadata": {},
   "source": [
    "#### Now whatever you will change in Country_Copy it will not affect the main dictionary Country "
   ]
  },
  {
   "cell_type": "code",
   "execution_count": 32,
   "id": "6e5b71b1",
   "metadata": {},
   "outputs": [],
   "source": [
    "Country_Copy['France']='Paris'"
   ]
  },
  {
   "cell_type": "code",
   "execution_count": 33,
   "id": "9b1a6214",
   "metadata": {},
   "outputs": [
    {
     "data": {
      "text/plain": [
       "{'India': 'Delhi',\n",
       " 'China': 'Beijing',\n",
       " 'Japan': 'Tokyo',\n",
       " 'Qatar': 'Doha',\n",
       " 'France': 'Paris'}"
      ]
     },
     "execution_count": 33,
     "metadata": {},
     "output_type": "execute_result"
    }
   ],
   "source": [
    "Country_Copy"
   ]
  },
  {
   "cell_type": "markdown",
   "id": "cf74a9d6",
   "metadata": {},
   "source": [
    "# *****************************************************************************************"
   ]
  },
  {
   "cell_type": "markdown",
   "id": "b5d578bf",
   "metadata": {},
   "source": [
    "#### Q17. Create the tuples given below\n",
    "+ tuple_1 = (1,5,6,7,8)\n",
    "+ tuple_2 = (8,9,4)\n",
    "+ Identify which of the following code does not work on a tuple.\n",
    "#########################################################################\n",
    "+ a. sum(tuple_1)\n",
    "+ b. len(tuple_2)\n",
    "+ c. tuple_2 + tuple_1\n",
    "+ d. tuple_1[3] = 45\n"
   ]
  },
  {
   "cell_type": "code",
   "execution_count": 34,
   "id": "1f243ffc",
   "metadata": {},
   "outputs": [],
   "source": [
    "tuple_1 = (1,5,6,7,8)\n",
    "tuple_2 = (8,9,4)"
   ]
  },
  {
   "cell_type": "code",
   "execution_count": 35,
   "id": "bff56d61",
   "metadata": {},
   "outputs": [
    {
     "data": {
      "text/plain": [
       "27"
      ]
     },
     "execution_count": 35,
     "metadata": {},
     "output_type": "execute_result"
    }
   ],
   "source": [
    "sum(tuple_1)"
   ]
  },
  {
   "cell_type": "code",
   "execution_count": 36,
   "id": "05a4164f",
   "metadata": {},
   "outputs": [
    {
     "data": {
      "text/plain": [
       "3"
      ]
     },
     "execution_count": 36,
     "metadata": {},
     "output_type": "execute_result"
    }
   ],
   "source": [
    "len(tuple_2)"
   ]
  },
  {
   "cell_type": "code",
   "execution_count": 37,
   "id": "422c3dd2",
   "metadata": {},
   "outputs": [
    {
     "data": {
      "text/plain": [
       "(8, 9, 4, 1, 5, 6, 7, 8)"
      ]
     },
     "execution_count": 37,
     "metadata": {},
     "output_type": "execute_result"
    }
   ],
   "source": [
    " tuple_2 + tuple_1"
   ]
  },
  {
   "cell_type": "code",
   "execution_count": 38,
   "id": "e64919af",
   "metadata": {},
   "outputs": [
    {
     "ename": "TypeError",
     "evalue": "'tuple' object does not support item assignment",
     "output_type": "error",
     "traceback": [
      "\u001b[1;31m---------------------------------------------------------------------------\u001b[0m",
      "\u001b[1;31mTypeError\u001b[0m                                 Traceback (most recent call last)",
      "Cell \u001b[1;32mIn[38], line 1\u001b[0m\n\u001b[1;32m----> 1\u001b[0m tuple_1[\u001b[38;5;241m3\u001b[39m] \u001b[38;5;241m=\u001b[39m \u001b[38;5;241m45\u001b[39m\n",
      "\u001b[1;31mTypeError\u001b[0m: 'tuple' object does not support item assignment"
     ]
    }
   ],
   "source": [
    "tuple_1[3] = 45"
   ]
  },
  {
   "cell_type": "markdown",
   "id": "96b78952",
   "metadata": {},
   "source": [
    "##### Ans = d.) tuple_1[3] = 45 as tuples ore immutable"
   ]
  },
  {
   "cell_type": "markdown",
   "id": "0336ecfd",
   "metadata": {},
   "source": [
    "# *****************************************************************************************"
   ]
  },
  {
   "cell_type": "markdown",
   "id": "edd042d0",
   "metadata": {},
   "source": [
    "#### Q18. How many elements in the following data structure?\n",
    "S = {1,2,3,4,4,4,5,6}"
   ]
  },
  {
   "cell_type": "code",
   "execution_count": 39,
   "id": "8d731f79",
   "metadata": {},
   "outputs": [],
   "source": [
    "S = {1,2,3,4,4,4,5,6}"
   ]
  },
  {
   "cell_type": "markdown",
   "id": "cb2971ca",
   "metadata": {},
   "source": [
    "##### Here data structure us defined as Set and Sets in Python are unordered collections of unique elements. In this case, there are 6 unique elements in the set: 1, 2, 3, 4, 5, and 6. So, the correct answer is: There are 6 elements in the data structure 'S'."
   ]
  },
  {
   "cell_type": "markdown",
   "id": "0b4c7cf9",
   "metadata": {},
   "source": [
    "# *****************************************************************************************"
   ]
  },
  {
   "cell_type": "markdown",
   "id": "7ab9f60b",
   "metadata": {},
   "source": [
    "#### Q19.Write a function which finds all pythagorean triplets of triangles whose sides are no greater than a natural number N."
   ]
  },
  {
   "cell_type": "code",
   "execution_count": 41,
   "id": "e7390a54",
   "metadata": {},
   "outputs": [
    {
     "name": "stdout",
     "output_type": "stream",
     "text": [
      "Enter the natural number N: 10\n",
      "Pythagorean Triplets:\n",
      "(3, 4, 5)\n",
      "(6, 8, 10)\n"
     ]
    }
   ],
   "source": [
    "def pythagorean_triplets(N):\n",
    "    triplets = []\n",
    "    \n",
    "    for a in range(1,N+1):\n",
    "        for b in range(a,N+1):\n",
    "            c_square = a**2 + b**2\n",
    "            c=int(c_square**0.5)\n",
    "            if c_square==c**2 and c<=N:\n",
    "                triplets.append((a,b,c))\n",
    "                \n",
    "    return triplets\n",
    "\n",
    "N=int(input(\"Enter the natural number N: \"))\n",
    "Pythagorean_Triplets=pythagorean_triplets(N)\n",
    "print(\"Pythagorean Triplets:\")\n",
    "for triplet in Pythagorean_Triplets:\n",
    "    print(triplet)\n",
    "    "
   ]
  },
  {
   "cell_type": "markdown",
   "id": "0bb54017",
   "metadata": {},
   "source": [
    "# *****************************************************************************************"
   ]
  },
  {
   "cell_type": "code",
   "execution_count": null,
   "id": "86fa3244",
   "metadata": {},
   "outputs": [],
   "source": []
  }
 ],
 "metadata": {
  "kernelspec": {
   "display_name": "Python 3 (ipykernel)",
   "language": "python",
   "name": "python3"
  },
  "language_info": {
   "codemirror_mode": {
    "name": "ipython",
    "version": 3
   },
   "file_extension": ".py",
   "mimetype": "text/x-python",
   "name": "python",
   "nbconvert_exporter": "python",
   "pygments_lexer": "ipython3",
   "version": "3.11.3"
  }
 },
 "nbformat": 4,
 "nbformat_minor": 5
}
