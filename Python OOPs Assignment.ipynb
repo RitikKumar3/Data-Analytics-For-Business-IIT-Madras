{
 "cells": [
  {
   "cell_type": "markdown",
   "id": "890544dd",
   "metadata": {},
   "source": [
    "# Python OOPs Assignment"
   ]
  },
  {
   "cell_type": "markdown",
   "id": "0509e4e4",
   "metadata": {},
   "source": [
    "Q1. Write a Python program to demonstrate multiple inheritance.\n",
    "\n",
    "1. Employee class has 3 data members EmployeeID, Gender (String), Salary and\n",
    "PerformanceRating(Out of 5) of type int. It has a get() function to get these details from\n",
    "the user.\n",
    "\n",
    "2. JoiningDetail class has a data member DateOfJoining of type Date and a function\n",
    "getDoJ to get the Date of joining of employees.\n",
    "\n",
    "3. Information Class uses the marks from Employee class and the DateOfJoining date\n",
    "from the JoiningDetail class to calculate the top 3 Employees based on their Ratings\n",
    "and then Display, using readData, all the details on these employees in Ascending\n",
    "order of their Date Of Joining."
   ]
  },
  {
   "cell_type": "code",
   "execution_count": 13,
   "id": "83eb613f",
   "metadata": {},
   "outputs": [
    {
     "name": "stdout",
     "output_type": "stream",
     "text": [
      "Enter the number of employees: 2\n",
      "Enter details for Employee 1:\n",
      "Enter Employee ID: 1\n",
      "Enter Gender(Male or Female): Male\n",
      "Enter Salary: 100000\n",
      "Enter Performance Rating (out of 5): 5\n",
      "Enter Date of Joining (YYYY-MM-DD): 2020-12-12\n",
      "Enter details for Employee 2:\n",
      "Enter Employee ID: 2\n",
      "Enter Gender(Male or Female): Female\n",
      "Enter Salary: 120000\n",
      "Enter Performance Rating (out of 5): 5\n",
      "Enter Date of Joining (YYYY-MM-DD): 2021-01-01\n",
      "\n",
      "Top 3 Employees Based on Performance Rating:\n",
      "Employee 1:\n",
      "Employee ID: 1\n",
      "Gender: Male\n",
      "Salary: 100000.0\n",
      "Performance Rating: 5\n",
      "Date of Joining: 2020-12-12\n",
      "\n",
      "Employee 2:\n",
      "Employee ID: 2\n",
      "Gender: Female\n",
      "Salary: 120000.0\n",
      "Performance Rating: 5\n",
      "Date of Joining: 2021-01-01\n",
      "\n"
     ]
    }
   ],
   "source": [
    "from datetime import date\n",
    "\n",
    "class Employee:\n",
    "    def __init__(self):\n",
    "        self.EmployeeID = 0\n",
    "        self.Gender = \"\"\n",
    "        self.Salary = 0\n",
    "        self.PerformanceRating = 0\n",
    "    \n",
    "    def get(self):\n",
    "        self.EmployeeID = int(input(\"Enter Employee ID: \"))\n",
    "        self.Gender = input(\"Enter Gender(Male or Female): \")\n",
    "        self.Salary = float(input(\"Enter Salary: \"))\n",
    "        self.PerformanceRating = int(input(\"Enter Performance Rating (out of 5): \"))\n",
    "\n",
    "class JoiningDetail:\n",
    "    def __init__(self):\n",
    "        self.DateOfJoining = date.today()\n",
    "    \n",
    "    def getDoJ(self):\n",
    "        self.DateOfJoining =  input(\"Enter Date of Joining (YYYY-MM-DD): \")\n",
    "      \n",
    "    \n",
    "class Information(Employee, JoiningDetail):\n",
    "    def __init__(self):\n",
    "        Employee.__init__(self)\n",
    "        JoiningDetail.__init__(self)\n",
    "        self.employee_list = []\n",
    "\n",
    "    def readData(self, n):\n",
    "        for i in range(n):\n",
    "            print(f\"Enter details for Employee {i + 1}:\")\n",
    "            self.get()\n",
    "            self.getDoJ()\n",
    "            self.employee_list.append({\n",
    "                'EmployeeID': self.EmployeeID,\n",
    "                'Gender': self.Gender,\n",
    "                'Salary': self.Salary,\n",
    "                'PerformanceRating': self.PerformanceRating,\n",
    "                'DateOfJoining': self.DateOfJoining\n",
    "            })\n",
    "\n",
    "    def displayTop3Employees(self):\n",
    "        sorted_employees = sorted(self.employee_list, key=lambda x: x['PerformanceRating'], reverse=True)\n",
    "        top3_employees = sorted_employees[:3]\n",
    "\n",
    "        print(\"\\nTop 3 Employees Based on Performance Rating:\")\n",
    "        for i, emp in enumerate(top3_employees):\n",
    "            print(f\"Employee {i + 1}:\")\n",
    "            print(f\"Employee ID: {emp['EmployeeID']}\")\n",
    "            print(f\"Gender: {emp['Gender']}\")\n",
    "            print(f\"Salary: {emp['Salary']}\")\n",
    "            print(f\"Performance Rating: {emp['PerformanceRating']}\")\n",
    "            print(f\"Date of Joining: {emp['DateOfJoining']}\\n\")\n",
    "\n",
    "# Main program\n",
    "n = int(input(\"Enter the number of employees: \"))\n",
    "info = Information()\n",
    "info.readData(n)\n",
    "info.displayTop3Employees()\n"
   ]
  },
  {
   "cell_type": "code",
   "execution_count": null,
   "id": "f1a192d0",
   "metadata": {},
   "outputs": [],
   "source": []
  },
  {
   "cell_type": "markdown",
   "id": "28e2c807",
   "metadata": {},
   "source": [
    "Q.2 Write a Python program to demonstrate Polymorphism.\n",
    "\n",
    "1. Class Vehicle with a parameterized function Fare, that takes input value as fare and\n",
    "returns it to calling Objects.\n",
    "\n",
    "2. Create five separate variables Bus, Car, Train, Truck and Ship that call the Fare\n",
    "function.\n",
    "\n",
    "3. Use a third variable TotalFare to store the sum of fare for each Vehicle Type.\n",
    "\n",
    "4. Print the TotalFare.\n"
   ]
  },
  {
   "cell_type": "code",
   "execution_count": 14,
   "id": "15379cd8",
   "metadata": {},
   "outputs": [
    {
     "name": "stdout",
     "output_type": "stream",
     "text": [
      "Enter the fare for Bus: 40\n",
      "Enter the fare for Car: 30\n",
      "Enter the fare for Train: 20\n",
      "Enter the fare for Truck: 35\n",
      "Enter the fare for Ship: 25\n",
      "Total Fare for all Vehicles: 150.0\n"
     ]
    }
   ],
   "source": [
    "class Vehicle:\n",
    "    def __init__(self, vehicle_type):\n",
    "        self.vehicle_type = vehicle_type\n",
    "\n",
    "    def fare(self):\n",
    "        while True:\n",
    "            fare_input = input(f\"Enter the fare for {self.vehicle_type}: \")\n",
    "            if fare_input.isnumeric() or (fare_input.replace(\".\", \"\", 1).isdigit() and fare_input.count(\".\") <= 1):\n",
    "                fare_amount = float(fare_input)\n",
    "                return fare_amount\n",
    "            else:\n",
    "                print(\"Invalid input. Please enter a valid numeric fare amount.\")\n",
    "                \n",
    "# Create instances of different types of vehicles\n",
    "bus = Vehicle(\"Bus\")\n",
    "car = Vehicle(\"Car\")\n",
    "train = Vehicle(\"Train\")\n",
    "truck = Vehicle(\"Truck\")\n",
    "ship = Vehicle(\"Ship\")\n",
    "\n",
    "# Calculate and store fares for each vehicle\n",
    "bus_fare = bus.fare()     # Fare for the bus\n",
    "car_fare = car.fare()     # Fare for the car\n",
    "train_fare = train.fare()  # Fare for the train\n",
    "truck_fare = truck.fare()   # Fare for the truck\n",
    "ship_fare = ship.fare()    # Fare for the ship\n",
    "\n",
    "# Calculate the total fare by summing the fares for all vehicles\n",
    "total_fare = bus_fare + car_fare + train_fare + truck_fare + ship_fare\n",
    "\n",
    "# Print the total fare\n",
    "print(f\"Total Fare for all Vehicles: {total_fare}\")     "
   ]
  },
  {
   "cell_type": "markdown",
   "id": "95597588",
   "metadata": {},
   "source": [
    "Q3. Consider an ongoing test cricket series. Following are the names of the players and their\n",
    "scores in the test1 and 2.\n",
    "\n",
    "Test Match 1 :\n",
    "    \n",
    "Dhoni : 56 , Balaji : 94\n",
    "        \n",
    "Test Match 2 :    \n",
    "Balaji : 80 , Dravid : 105       \n",
    "Calculate the highest number of runs scored by an individual cricketer in both of the matches.\n",
    "Create a python function Max_Score (M) that reads a dictionary M that recognizes the player\n",
    "with the highest total score. This function will return ( Top player , Total Score ) . You can\n",
    "consider the Top player as String who is the highest scorer and Top score as Integer .\n",
    "\n",
    "\n",
    "Input : Max_Score({‘test1’:{‘Dhoni’:56, ‘Balaji : 85}, ‘test2’:{‘Dhoni’ 87, ‘Balaji’’:200}})\n",
    "\n",
    "    \n",
    "Output : (‘Balaji ‘ , 200)"
   ]
  },
  {
   "cell_type": "code",
   "execution_count": 15,
   "id": "1b8e408f",
   "metadata": {},
   "outputs": [
    {
     "name": "stdout",
     "output_type": "stream",
     "text": [
      "('Balaji', 200)\n"
     ]
    }
   ],
   "source": [
    "def Max_Score(matches):\n",
    "    top_player = None\n",
    "    top_score = 0\n",
    "    \n",
    "    for match_scores in matches.values():\n",
    "        for player, score in match_scores.items():\n",
    "            if score > top_score:\n",
    "                top_player = player\n",
    "                top_score = score\n",
    "                \n",
    "    return (top_player, top_score)\n",
    "\n",
    "# Test the function with the provided input:\n",
    "matches = {\n",
    "    'test1': {'Dhoni': 56, 'Balaji': 85},\n",
    "    'test2': {'Dhoni': 87, 'Balaji': 200}\n",
    "}\n",
    "\n",
    "result = Max_Score(matches)\n",
    "print(result)  # Output: ('Balaji', 200)\n"
   ]
  },
  {
   "cell_type": "code",
   "execution_count": null,
   "id": "ad29b565",
   "metadata": {},
   "outputs": [],
   "source": []
  },
  {
   "cell_type": "markdown",
   "id": "f4dd84f1",
   "metadata": {},
   "source": [
    "Q4. Create a simple Card game in which there are 8 cards which are randomly chosen from a\n",
    "deck. The first card is shown face up. The game asks the player to predict whether the next card\n",
    "in the selection will have a higher or lower value than the currently showing card.\n",
    "\n",
    "For example, say the card that’s shown is a 3. The player chooses “higher,” and the next card is\n",
    "shown. If that card has a higher value, the player is correct. In this example, if the player had\n",
    "chosen “lower,” they would have been incorrect. If the player guesses correctly, they get 20\n",
    "points. If they choose incorrectly, they lose 15 points. If the next card to be turned over has the\n",
    "same value as the previous card, the player is incorrect.\n"
   ]
  },
  {
   "cell_type": "code",
   "execution_count": 16,
   "id": "aa9765de",
   "metadata": {},
   "outputs": [
    {
     "name": "stdout",
     "output_type": "stream",
     "text": [
      "Current card: Queen of Spades\n",
      "Predict 'higher' or 'lower' (or 'quit' to end the game): higher\n",
      "Correct! You earned 20 points. Total score: 20\n",
      "Current card: Ace of Spades\n",
      "Predict 'higher' or 'lower' (or 'quit' to end the game): lower\n",
      "Correct! You earned 20 points. Total score: 40\n",
      "Current card: 3 of Clubs\n",
      "Predict 'higher' or 'lower' (or 'quit' to end the game): higher\n",
      "Correct! You earned 20 points. Total score: 60\n",
      "Current card: 9 of Clubs\n",
      "Predict 'higher' or 'lower' (or 'quit' to end the game): quit\n",
      "Game over! Your final score: 60\n"
     ]
    }
   ],
   "source": [
    "import random\n",
    "\n",
    "# Initialize the deck of cards\n",
    "suits = ['Hearts', 'Diamonds', 'Clubs', 'Spades']\n",
    "values = ['2', '3', '4', '5', '6', '7', '8', '9', '10', 'Jack', 'Queen', 'King', 'Ace']\n",
    "\n",
    "deck = [{'value': value, 'suit': suit} for value in values for suit in suits]\n",
    "\n",
    "# Shuffle the deck\n",
    "random.shuffle(deck)\n",
    "\n",
    "def play_card_game():\n",
    "    score = 0\n",
    "    prev_card = deck.pop()  # Initial card\n",
    "\n",
    "    while len(deck) > 0:\n",
    "        print(f\"Current card: {prev_card['value']} of {prev_card['suit']}\")\n",
    "\n",
    "        # Ask the player for their prediction\n",
    "        prediction = input(\"Predict 'higher' or 'lower' (or 'quit' to end the game): \").lower()\n",
    "\n",
    "        if prediction == 'quit':\n",
    "            break  # Exit the loop if the player chooses to quit\n",
    "\n",
    "        # Get the next card\n",
    "        next_card = deck.pop()\n",
    "\n",
    "        # Determine the result\n",
    "        if values.index(prev_card['value']) < values.index(next_card['value']):\n",
    "            result = 'higher'\n",
    "        elif values.index(prev_card['value']) > values.index(next_card['value']):\n",
    "            result = 'lower'\n",
    "        else:\n",
    "            result = 'same'\n",
    "\n",
    "        # Check if the player's prediction matches the result\n",
    "        if prediction == result:\n",
    "            score += 20\n",
    "            print(f\"Correct! You earned 20 points. Total score: {score}\")\n",
    "        else:\n",
    "            score -= 15\n",
    "            print(f\"Wrong! You lost 15 points. Total score: {score}\")\n",
    "\n",
    "        prev_card = next_card  # Update the previous card\n",
    "\n",
    "    print(\"Game over! Your final score:\", score)\n",
    "\n",
    "# Start the game\n",
    "play_card_game()\n"
   ]
  },
  {
   "cell_type": "code",
   "execution_count": null,
   "id": "9a330fb0",
   "metadata": {},
   "outputs": [],
   "source": []
  },
  {
   "cell_type": "markdown",
   "id": "dcbc5e80",
   "metadata": {},
   "source": [
    "Q5. Create an empty dictionary called Car_0 . Then fill the dictionary with Keys : color , speed\n",
    ", X_position and Y_position.\n",
    "\n",
    "car_0 = {'x_position': 10, 'y_position': 72, 'speed': 'medium'} .\n",
    "\n",
    "a) If the speed is slow the coordinates of the X_pos get incremented by 2.\n",
    "\n",
    "b) If the speed is Medium the coordinates of the X_pos gets incremented by 9\n",
    "\n",
    "c) Now if the speed is Fast the coordinates of the X_pos gets incremented by 22.\n",
    "\n",
    "Print the modified dictionary.\n"
   ]
  },
  {
   "cell_type": "code",
   "execution_count": 17,
   "id": "8c23569d",
   "metadata": {},
   "outputs": [
    {
     "name": "stdout",
     "output_type": "stream",
     "text": [
      "{'color': 'red', 'speed': 'medium', 'x_position': 19, 'y_position': 72}\n"
     ]
    }
   ],
   "source": [
    "# Create an empty dictionary called Car_0\n",
    "car_0 = {}\n",
    "\n",
    "# Fill the dictionary with keys: color, speed, X_position, and Y_position\n",
    "car_0['color'] = 'red'\n",
    "car_0['speed'] = 'medium'\n",
    "car_0['x_position'] = 10\n",
    "car_0['y_position'] = 72\n",
    "\n",
    "# Modify the X_position based on the speed\n",
    "if car_0['speed'] == 'slow':\n",
    "    car_0['x_position'] += 2\n",
    "elif car_0['speed'] == 'medium':\n",
    "    car_0['x_position'] += 9\n",
    "elif car_0['speed'] == 'fast':\n",
    "    car_0['x_position'] += 22\n",
    "\n",
    "# Print the modified dictionary\n",
    "print(car_0)\n"
   ]
  },
  {
   "cell_type": "code",
   "execution_count": null,
   "id": "a7f3ca02",
   "metadata": {},
   "outputs": [],
   "source": []
  },
  {
   "cell_type": "markdown",
   "id": "fad1469a",
   "metadata": {},
   "source": [
    "Q6. Show a basic implementation of abstraction in python using the abstract classes.\n",
    "\n",
    "1. Create an abstract class in python.\n",
    "\n",
    "2. Implement abstraction with the other classes and base class as abstract class.\n"
   ]
  },
  {
   "cell_type": "code",
   "execution_count": 18,
   "id": "063b6064",
   "metadata": {},
   "outputs": [
    {
     "name": "stdout",
     "output_type": "stream",
     "text": [
      "Toyota car's engine started.\n",
      "Toyota car's engine stopped.\n",
      "Honda motorcycle's engine started.\n",
      "Honda motorcycle's engine stopped.\n"
     ]
    }
   ],
   "source": [
    "from abc import ABC, abstractmethod\n",
    "\n",
    "# Create an abstract base class (Vehicle)\n",
    "class Vehicle(ABC):\n",
    "\n",
    "    def __init__(self, name):\n",
    "        self.name = name\n",
    "\n",
    "    @abstractmethod\n",
    "    def start_engine(self):\n",
    "        pass\n",
    "\n",
    "    @abstractmethod\n",
    "    def stop_engine(self):\n",
    "        pass\n",
    "\n",
    "# Create two concrete classes (Car and Motorcycle) that inherit from the abstract class\n",
    "class Car(Vehicle):\n",
    "\n",
    "    def start_engine(self):\n",
    "        print(f\"{self.name} car's engine started.\")\n",
    "\n",
    "    def stop_engine(self):\n",
    "        print(f\"{self.name} car's engine stopped.\")\n",
    "\n",
    "class Motorcycle(Vehicle):\n",
    "\n",
    "    def start_engine(self):\n",
    "        print(f\"{self.name} motorcycle's engine started.\")\n",
    "\n",
    "    def stop_engine(self):\n",
    "        print(f\"{self.name} motorcycle's engine stopped.\")\n",
    "\n",
    "# Instantiate objects of concrete classes\n",
    "car = Car(\"Toyota\")\n",
    "motorcycle = Motorcycle(\"Honda\")\n",
    "\n",
    "# Demonstrate abstraction\n",
    "car.start_engine()\n",
    "car.stop_engine()\n",
    "\n",
    "motorcycle.start_engine()\n",
    "motorcycle.stop_engine()\n"
   ]
  },
  {
   "cell_type": "code",
   "execution_count": null,
   "id": "f03ea329",
   "metadata": {},
   "outputs": [],
   "source": []
  },
  {
   "cell_type": "markdown",
   "id": "8b60403f",
   "metadata": {},
   "source": [
    "Q7. Create a program in python to demonstrate Polymorphism.\n",
    "1. Make use of private and protected members using python name mangling techniques."
   ]
  },
  {
   "cell_type": "code",
   "execution_count": 19,
   "id": "d126c4c5",
   "metadata": {},
   "outputs": [
    {
     "name": "stdout",
     "output_type": "stream",
     "text": [
      "Tommy says Woof!\n",
      "Species: Canine\n",
      "\n",
      "Daisy says Meow!\n",
      "Species: Feline\n",
      "\n",
      "Name of the dog: Tommy\n",
      "Name of the cat: Daisy\n"
     ]
    }
   ],
   "source": [
    "class Animal:\n",
    "    def __init__(self, name):\n",
    "        self.__name = name  # Private member using name mangling\n",
    "        self._species = None  # Protected member\n",
    "\n",
    "    def speak(self):\n",
    "        pass\n",
    "\n",
    "    def get_name(self):\n",
    "        return self.__name\n",
    "\n",
    "    def set_species(self, species):\n",
    "        self._species = species\n",
    "\n",
    "class Dog(Animal):\n",
    "    def speak(self):\n",
    "        return f\"{self.get_name()} says Woof!\"\n",
    "\n",
    "class Cat(Animal):\n",
    "    def speak(self):\n",
    "        return f\"{self.get_name()} says Meow!\"\n",
    "\n",
    "if __name__ == \"__main__\":\n",
    "    dog = Dog(\"Tommy\")\n",
    "    cat = Cat(\"Daisy\")\n",
    "\n",
    "    # Access protected member using name mangling\n",
    "    dog.set_species(\"Canine\")\n",
    "    cat.set_species(\"Feline\")\n",
    "\n",
    "    # Demonstrate polymorphism\n",
    "    animals = [dog, cat]\n",
    "    for animal in animals:\n",
    "        print(animal.speak())\n",
    "        print(f\"Species: {animal._species}\\n\")  # Access protected member\n",
    "\n",
    "    # Access private member using name mangling\n",
    "    print(f\"Name of the dog: {dog._Animal__name}\")\n",
    "    print(f\"Name of the cat: {cat._Animal__name}\")\n"
   ]
  },
  {
   "cell_type": "code",
   "execution_count": null,
   "id": "aba0e4d3",
   "metadata": {},
   "outputs": [],
   "source": []
  },
  {
   "cell_type": "markdown",
   "id": "9e078fac",
   "metadata": {},
   "source": [
    "Q8. Given a list of 50 natural numbers from 1-50. Create a function that will take every element\n",
    "from the list and return the square of each element. Use the python map and filter methods to\n",
    "implement the function on the given list.\n"
   ]
  },
  {
   "cell_type": "code",
   "execution_count": 20,
   "id": "b92c712a",
   "metadata": {},
   "outputs": [
    {
     "name": "stdout",
     "output_type": "stream",
     "text": [
      "[1, 4, 9, 16, 25, 36, 49, 64, 81, 100, 121, 144, 169, 196, 225, 256, 289, 324, 361, 400, 441, 484, 529, 576, 625, 676, 729, 784, 841, 900, 961, 1024, 1089, 1156, 1225, 1296, 1369, 1444, 1521, 1600, 1681, 1764, 1849, 1936, 2025, 2116, 2209, 2304, 2401, 2500]\n"
     ]
    }
   ],
   "source": [
    "# Define a function to square a number\n",
    "def square(x):\n",
    "    return x ** 2\n",
    "\n",
    "# Create a list of natural numbers from 1 to 50\n",
    "numbers = list(range(1, 51))\n",
    "\n",
    "# Use the map function to apply the square function to each element in the list\n",
    "squared_numbers = list(map(square, numbers))\n",
    "\n",
    "# Print the squared numbers\n",
    "print(squared_numbers)\n"
   ]
  },
  {
   "cell_type": "code",
   "execution_count": null,
   "id": "8c35191c",
   "metadata": {},
   "outputs": [],
   "source": []
  },
  {
   "cell_type": "markdown",
   "id": "1ac25a56",
   "metadata": {},
   "source": [
    "Q9. Create a class, Triangle. Its init() method should take self, angle1, angle2, and angle3 as\n",
    "arguments.\n"
   ]
  },
  {
   "cell_type": "code",
   "execution_count": 21,
   "id": "1a3d4710",
   "metadata": {
    "scrolled": true
   },
   "outputs": [
    {
     "name": "stdout",
     "output_type": "stream",
     "text": [
      "Angle 1: 90\n",
      "Angle 2: 45\n",
      "Angle 3: 45\n"
     ]
    }
   ],
   "source": [
    "class Triangle:\n",
    "    def __init__(self, angle1, angle2, angle3):\n",
    "        self.angle1 = angle1\n",
    "        self.angle2 = angle2\n",
    "        self.angle3 = angle3\n",
    "\n",
    "# Example usage:\n",
    "triangle = Triangle(90, 45, 45)\n",
    "\n",
    "# Accessing the angles\n",
    "print(\"Angle 1:\", triangle.angle1)\n",
    "print(\"Angle 2:\", triangle.angle2)\n",
    "print(\"Angle 3:\", triangle.angle3)\n"
   ]
  },
  {
   "cell_type": "markdown",
   "id": "c801809b",
   "metadata": {},
   "source": [
    "#### Or if we want angles as input from user"
   ]
  },
  {
   "cell_type": "code",
   "execution_count": 22,
   "id": "4ac29566",
   "metadata": {},
   "outputs": [
    {
     "name": "stdout",
     "output_type": "stream",
     "text": [
      "Enter the first angle: 45\n",
      "Enter the second angle: 45\n",
      "Enter the third angle: 90\n",
      "Triangle Type: Isosceles Triangle\n"
     ]
    }
   ],
   "source": [
    "class Triangle:\n",
    "    def __init__(self):\n",
    "        self.angle1 = float(input(\"Enter the first angle: \"))\n",
    "        self.angle2 = float(input(\"Enter the second angle: \"))\n",
    "        self.angle3 = float(input(\"Enter the third angle: \"))\n",
    "\n",
    "    def is_valid(self):\n",
    "        # Check if the angles form a valid triangle\n",
    "        return self.angle1 + self.angle2 + self.angle3 == 180\n",
    "\n",
    "    def get_triangle_type(self):\n",
    "        if self.is_valid():\n",
    "            if self.angle1 == self.angle2 == self.angle3:\n",
    "                return \"Equilateral Triangle\"\n",
    "            elif self.angle1 == self.angle2 or self.angle1 == self.angle3 or self.angle2 == self.angle3:\n",
    "                return \"Isosceles Triangle\"\n",
    "            elif self.angle1 == 90 or self.angle2 == 90 or self.angle3 == 90:\n",
    "                return \"Right Angled Triangle\"\n",
    "            else:\n",
    "                return \"Scalene Triangle\"\n",
    "        else:\n",
    "            return \"Not a valid triangle\"\n",
    "\n",
    "# Create an instance of the Triangle class\n",
    "triangle = Triangle()\n",
    "\n",
    "# Get the type of triangle and print it\n",
    "triangle_type = triangle.get_triangle_type()\n",
    "print(\"Triangle Type:\", triangle_type)\n"
   ]
  },
  {
   "cell_type": "code",
   "execution_count": null,
   "id": "841b53a1",
   "metadata": {},
   "outputs": [],
   "source": []
  },
  {
   "cell_type": "markdown",
   "id": "3cee6f01",
   "metadata": {},
   "source": [
    "Q10. Create a class variable named number_of_sides and set it equal to 3."
   ]
  },
  {
   "cell_type": "code",
   "execution_count": 23,
   "id": "0640b4f1",
   "metadata": {},
   "outputs": [
    {
     "name": "stdout",
     "output_type": "stream",
     "text": [
      "Number of sides in a triangle: 3\n",
      "Enter the length of side 1: 10\n",
      "Enter the length of side 2: 10\n",
      "Enter the length of side 3: 10\n",
      "The entered sides form a valid triangle.\n"
     ]
    }
   ],
   "source": [
    "class Triangle:\n",
    "    number_of_sides = 3\n",
    "\n",
    "    def __init__(self):\n",
    "        self.side1 = float(input(\"Enter the length of side 1: \"))\n",
    "        self.side2 = float(input(\"Enter the length of side 2: \"))\n",
    "        self.side3 = float(input(\"Enter the length of side 3: \"))\n",
    "\n",
    "    def is_valid(self):\n",
    "        return (\n",
    "            self.side1 + self.side2 > self.side3\n",
    "            and self.side1 + self.side3 > self.side2\n",
    "            and self.side2 + self.side3 > self.side1\n",
    "        )\n",
    "\n",
    "\n",
    "print(\"Number of sides in a triangle:\", Triangle.number_of_sides)\n",
    "\n",
    "\n",
    "triangle = Triangle()\n",
    "\n",
    "\n",
    "if triangle.is_valid():\n",
    "    print(\"The entered sides form a valid triangle.\")\n",
    "else:\n",
    "    print(\"The entered sides do not form a valid triangle.\")\n",
    "\n",
    "    "
   ]
  },
  {
   "cell_type": "code",
   "execution_count": null,
   "id": "ef882df6",
   "metadata": {},
   "outputs": [],
   "source": []
  },
  {
   "cell_type": "markdown",
   "id": "580c44c3",
   "metadata": {},
   "source": [
    "Q11. Create a method named check_angles. The sum of a triangle's three angles should return\n",
    "True if the sum is equal to 180, and False otherwise. The method should print whether the\n",
    "angles belong to a triangle or not.\n",
    "\n",
    "11.1 Write methods to verify if the triangle is an acute triangle or obtuse triangle.\n",
    "\n",
    "11.2 Create an instance of the triangle class and call all the defined methods.\n",
    "\n",
    "11.3 Create three child classes of triangle class - isosceles_triangle, right_triangle and\n",
    "equilateral_triangle.\n",
    "\n",
    "11.4 Define methods which check for their properties.\n"
   ]
  },
  {
   "cell_type": "code",
   "execution_count": 24,
   "id": "a2152a12",
   "metadata": {},
   "outputs": [
    {
     "name": "stdout",
     "output_type": "stream",
     "text": [
      "Enter the first angle: 45\n",
      "Enter the second angle: 45\n",
      "Enter the third angle: 90\n",
      "These angles belong to a triangle.\n",
      "It's an isosceles triangle.\n",
      "It's also a right triangle.\n"
     ]
    }
   ],
   "source": [
    "class Triangle:\n",
    "    def __init__(self, angle1, angle2, angle3):\n",
    "        self.angle1 = angle1\n",
    "        self.angle2 = angle2\n",
    "        self.angle3 = angle3\n",
    "\n",
    "    def check_angles(self):\n",
    "        if self.angle1 + self.angle2 + self.angle3 == 180:\n",
    "            print(\"These angles belong to a triangle.\")\n",
    "            return True\n",
    "        else:\n",
    "            print(\"These angles do not belong to a triangle.\")\n",
    "            return False\n",
    "\n",
    "    def identify_triangle(self):\n",
    "        if self.check_angles():\n",
    "            if self.angle1 == self.angle2 == self.angle3:\n",
    "                print(\"It's an equilateral triangle.\")\n",
    "            elif self.angle1 == self.angle2 or self.angle1 == self.angle3 or self.angle2 == self.angle3:\n",
    "                print(\"It's an isosceles triangle.\")\n",
    "            else:\n",
    "                print(\"It's a scalene triangle.\")\n",
    "            if any(angle == 90 for angle in [self.angle1, self.angle2, self.angle3]):\n",
    "                print(\"It's also a right triangle.\")\n",
    "            elif all(angle < 90 for angle in [self.angle1, self.angle2, self.angle3]):\n",
    "                print(\"It's an acute triangle.\")\n",
    "            else:\n",
    "                print(\"It's an obtuse triangle.\")\n",
    "\n",
    "\n",
    "angle1 = float(input(\"Enter the first angle: \"))\n",
    "angle2 = float(input(\"Enter the second angle: \"))\n",
    "angle3 = float(input(\"Enter the third angle: \"))\n",
    "\n",
    "\n",
    "triangle = Triangle(angle1, angle2, angle3)\n",
    "\n",
    "\n",
    "triangle.identify_triangle()\n"
   ]
  },
  {
   "cell_type": "code",
   "execution_count": null,
   "id": "2a42447f",
   "metadata": {},
   "outputs": [],
   "source": []
  },
  {
   "cell_type": "markdown",
   "id": "5f09964f",
   "metadata": {},
   "source": [
    "Q12. Create a class isosceles_right_triangle which inherits from isosceles_triangle and\n",
    "right_triangle.\n",
    "\n",
    "12.1 Define methods which check for their properties."
   ]
  },
  {
   "cell_type": "code",
   "execution_count": 25,
   "id": "072c4b32",
   "metadata": {},
   "outputs": [
    {
     "name": "stdout",
     "output_type": "stream",
     "text": [
      "Enter the first angle: 45\n",
      "Enter the second angle: 45\n",
      "Enter the third angle: 90\n",
      "It's an isosceles right triangle.\n"
     ]
    }
   ],
   "source": [
    "class IsoscelesTriangle(Triangle):\n",
    "    def is_isosceles(self):\n",
    "        if self.angle1 == self.angle2 or self.angle1 == self.angle3 or self.angle2 == self.angle3:\n",
    "            return True\n",
    "        return False\n",
    "\n",
    "class RightTriangle(Triangle):\n",
    "    def is_right_triangle(self):\n",
    "        if any(angle == 90 for angle in [self.angle1, self.angle2, self.angle3]):\n",
    "            return True\n",
    "        return False\n",
    "\n",
    "class IsoscelesRightTriangle(IsoscelesTriangle, RightTriangle):\n",
    "    def is_isosceles_right_triangle(self):\n",
    "        if self.is_isosceles() and self.is_right_triangle():\n",
    "            return True\n",
    "        return False\n",
    "\n",
    "\n",
    "angle1 = float(input(\"Enter the first angle: \"))\n",
    "angle2 = float(input(\"Enter the second angle: \"))\n",
    "angle3 = float(input(\"Enter the third angle: \"))\n",
    "\n",
    "\n",
    "isosceles_right_triangle = IsoscelesRightTriangle(angle1, angle2, angle3)\n",
    "\n",
    "\n",
    "if isosceles_right_triangle.is_isosceles_right_triangle():\n",
    "    print(\"It's an isosceles right triangle.\")\n",
    "else:\n",
    "    print(\"It's not an isosceles right triangle.\")\n"
   ]
  },
  {
   "cell_type": "code",
   "execution_count": null,
   "id": "d2c5127c",
   "metadata": {},
   "outputs": [],
   "source": []
  }
 ],
 "metadata": {
  "kernelspec": {
   "display_name": "Python 3 (ipykernel)",
   "language": "python",
   "name": "python3"
  },
  "language_info": {
   "codemirror_mode": {
    "name": "ipython",
    "version": 3
   },
   "file_extension": ".py",
   "mimetype": "text/x-python",
   "name": "python",
   "nbconvert_exporter": "python",
   "pygments_lexer": "ipython3",
   "version": "3.11.3"
  }
 },
 "nbformat": 4,
 "nbformat_minor": 5
}
