{
 "cells": [
  {
   "cell_type": "markdown",
   "metadata": {
    "id": "F9cJo6oFTHn8"
   },
   "source": [
    "# **Airbnb Booking Case Study**"
   ]
  },
  {
   "cell_type": "markdown",
   "metadata": {
    "id": "85GcL021Xox2"
   },
   "source": [
    "### **Importing the necessary libraries**"
   ]
  },
  {
   "cell_type": "code",
   "execution_count": 1,
   "metadata": {
    "id": "HnYV3CD7WQoO"
   },
   "outputs": [],
   "source": [
    "# Loading important libraries\n",
    "import numpy as np\n",
    "import pandas as pd\n",
    "import matplotlib.pyplot as plt\n",
    "%matplotlib inline\n",
    "import seaborn as sns\n",
    "import warnings\n",
    "warnings.filterwarnings('ignore')"
   ]
  },
  {
   "cell_type": "markdown",
   "metadata": {
    "id": "kbIzYj03X6NM"
   },
   "source": [
    "### **Load Airbnb Dataset**"
   ]
  },
  {
   "cell_type": "code",
   "execution_count": 2,
   "metadata": {
    "colab": {
     "base_uri": "https://localhost:8080/",
     "height": 825
    },
    "id": "hFuxjJwgWQRE",
    "outputId": "5f3ddc1f-5502-4602-f2b2-89c69d0a9b53"
   },
   "outputs": [
    {
     "data": {
      "text/html": [
       "<div>\n",
       "<style scoped>\n",
       "    .dataframe tbody tr th:only-of-type {\n",
       "        vertical-align: middle;\n",
       "    }\n",
       "\n",
       "    .dataframe tbody tr th {\n",
       "        vertical-align: top;\n",
       "    }\n",
       "\n",
       "    .dataframe thead th {\n",
       "        text-align: right;\n",
       "    }\n",
       "</style>\n",
       "<table border=\"1\" class=\"dataframe\">\n",
       "  <thead>\n",
       "    <tr style=\"text-align: right;\">\n",
       "      <th></th>\n",
       "      <th>id</th>\n",
       "      <th>name</th>\n",
       "      <th>host_id</th>\n",
       "      <th>host_name</th>\n",
       "      <th>neighbourhood_group</th>\n",
       "      <th>neighbourhood</th>\n",
       "      <th>latitude</th>\n",
       "      <th>longitude</th>\n",
       "      <th>room_type</th>\n",
       "      <th>price</th>\n",
       "      <th>minimum_nights</th>\n",
       "      <th>number_of_reviews</th>\n",
       "      <th>last_review</th>\n",
       "      <th>reviews_per_month</th>\n",
       "      <th>calculated_host_listings_count</th>\n",
       "      <th>availability_365</th>\n",
       "    </tr>\n",
       "  </thead>\n",
       "  <tbody>\n",
       "    <tr>\n",
       "      <th>0</th>\n",
       "      <td>2539</td>\n",
       "      <td>Clean &amp; quiet apt home by the park</td>\n",
       "      <td>2787</td>\n",
       "      <td>John</td>\n",
       "      <td>Brooklyn</td>\n",
       "      <td>Kensington</td>\n",
       "      <td>40.64749</td>\n",
       "      <td>-73.97237</td>\n",
       "      <td>Private room</td>\n",
       "      <td>149</td>\n",
       "      <td>1</td>\n",
       "      <td>9</td>\n",
       "      <td>2018-10-19</td>\n",
       "      <td>0.21</td>\n",
       "      <td>6</td>\n",
       "      <td>365</td>\n",
       "    </tr>\n",
       "    <tr>\n",
       "      <th>1</th>\n",
       "      <td>2595</td>\n",
       "      <td>Skylit Midtown Castle</td>\n",
       "      <td>2845</td>\n",
       "      <td>Jennifer</td>\n",
       "      <td>Manhattan</td>\n",
       "      <td>Midtown</td>\n",
       "      <td>40.75362</td>\n",
       "      <td>-73.98377</td>\n",
       "      <td>Entire home/apt</td>\n",
       "      <td>225</td>\n",
       "      <td>1</td>\n",
       "      <td>45</td>\n",
       "      <td>2019-05-21</td>\n",
       "      <td>0.38</td>\n",
       "      <td>2</td>\n",
       "      <td>355</td>\n",
       "    </tr>\n",
       "    <tr>\n",
       "      <th>2</th>\n",
       "      <td>3647</td>\n",
       "      <td>THE VILLAGE OF HARLEM....NEW YORK !</td>\n",
       "      <td>4632</td>\n",
       "      <td>Elisabeth</td>\n",
       "      <td>Manhattan</td>\n",
       "      <td>Harlem</td>\n",
       "      <td>40.80902</td>\n",
       "      <td>-73.94190</td>\n",
       "      <td>Private room</td>\n",
       "      <td>150</td>\n",
       "      <td>3</td>\n",
       "      <td>0</td>\n",
       "      <td>NaN</td>\n",
       "      <td>NaN</td>\n",
       "      <td>1</td>\n",
       "      <td>365</td>\n",
       "    </tr>\n",
       "    <tr>\n",
       "      <th>3</th>\n",
       "      <td>3831</td>\n",
       "      <td>Cozy Entire Floor of Brownstone</td>\n",
       "      <td>4869</td>\n",
       "      <td>LisaRoxanne</td>\n",
       "      <td>Brooklyn</td>\n",
       "      <td>Clinton Hill</td>\n",
       "      <td>40.68514</td>\n",
       "      <td>-73.95976</td>\n",
       "      <td>Entire home/apt</td>\n",
       "      <td>89</td>\n",
       "      <td>1</td>\n",
       "      <td>270</td>\n",
       "      <td>2019-07-05</td>\n",
       "      <td>4.64</td>\n",
       "      <td>1</td>\n",
       "      <td>194</td>\n",
       "    </tr>\n",
       "    <tr>\n",
       "      <th>4</th>\n",
       "      <td>5022</td>\n",
       "      <td>Entire Apt: Spacious Studio/Loft by central park</td>\n",
       "      <td>7192</td>\n",
       "      <td>Laura</td>\n",
       "      <td>Manhattan</td>\n",
       "      <td>East Harlem</td>\n",
       "      <td>40.79851</td>\n",
       "      <td>-73.94399</td>\n",
       "      <td>Entire home/apt</td>\n",
       "      <td>80</td>\n",
       "      <td>10</td>\n",
       "      <td>9</td>\n",
       "      <td>2018-11-19</td>\n",
       "      <td>0.10</td>\n",
       "      <td>1</td>\n",
       "      <td>0</td>\n",
       "    </tr>\n",
       "    <tr>\n",
       "      <th>...</th>\n",
       "      <td>...</td>\n",
       "      <td>...</td>\n",
       "      <td>...</td>\n",
       "      <td>...</td>\n",
       "      <td>...</td>\n",
       "      <td>...</td>\n",
       "      <td>...</td>\n",
       "      <td>...</td>\n",
       "      <td>...</td>\n",
       "      <td>...</td>\n",
       "      <td>...</td>\n",
       "      <td>...</td>\n",
       "      <td>...</td>\n",
       "      <td>...</td>\n",
       "      <td>...</td>\n",
       "      <td>...</td>\n",
       "    </tr>\n",
       "    <tr>\n",
       "      <th>48890</th>\n",
       "      <td>36484665</td>\n",
       "      <td>Charming one bedroom - newly renovated rowhouse</td>\n",
       "      <td>8232441</td>\n",
       "      <td>Sabrina</td>\n",
       "      <td>Brooklyn</td>\n",
       "      <td>Bedford-Stuyvesant</td>\n",
       "      <td>40.67853</td>\n",
       "      <td>-73.94995</td>\n",
       "      <td>Private room</td>\n",
       "      <td>70</td>\n",
       "      <td>2</td>\n",
       "      <td>0</td>\n",
       "      <td>NaN</td>\n",
       "      <td>NaN</td>\n",
       "      <td>2</td>\n",
       "      <td>9</td>\n",
       "    </tr>\n",
       "    <tr>\n",
       "      <th>48891</th>\n",
       "      <td>36485057</td>\n",
       "      <td>Affordable room in Bushwick/East Williamsburg</td>\n",
       "      <td>6570630</td>\n",
       "      <td>Marisol</td>\n",
       "      <td>Brooklyn</td>\n",
       "      <td>Bushwick</td>\n",
       "      <td>40.70184</td>\n",
       "      <td>-73.93317</td>\n",
       "      <td>Private room</td>\n",
       "      <td>40</td>\n",
       "      <td>4</td>\n",
       "      <td>0</td>\n",
       "      <td>NaN</td>\n",
       "      <td>NaN</td>\n",
       "      <td>2</td>\n",
       "      <td>36</td>\n",
       "    </tr>\n",
       "    <tr>\n",
       "      <th>48892</th>\n",
       "      <td>36485431</td>\n",
       "      <td>Sunny Studio at Historical Neighborhood</td>\n",
       "      <td>23492952</td>\n",
       "      <td>Ilgar &amp; Aysel</td>\n",
       "      <td>Manhattan</td>\n",
       "      <td>Harlem</td>\n",
       "      <td>40.81475</td>\n",
       "      <td>-73.94867</td>\n",
       "      <td>Entire home/apt</td>\n",
       "      <td>115</td>\n",
       "      <td>10</td>\n",
       "      <td>0</td>\n",
       "      <td>NaN</td>\n",
       "      <td>NaN</td>\n",
       "      <td>1</td>\n",
       "      <td>27</td>\n",
       "    </tr>\n",
       "    <tr>\n",
       "      <th>48893</th>\n",
       "      <td>36485609</td>\n",
       "      <td>43rd St. Time Square-cozy single bed</td>\n",
       "      <td>30985759</td>\n",
       "      <td>Taz</td>\n",
       "      <td>Manhattan</td>\n",
       "      <td>Hell's Kitchen</td>\n",
       "      <td>40.75751</td>\n",
       "      <td>-73.99112</td>\n",
       "      <td>Shared room</td>\n",
       "      <td>55</td>\n",
       "      <td>1</td>\n",
       "      <td>0</td>\n",
       "      <td>NaN</td>\n",
       "      <td>NaN</td>\n",
       "      <td>6</td>\n",
       "      <td>2</td>\n",
       "    </tr>\n",
       "    <tr>\n",
       "      <th>48894</th>\n",
       "      <td>36487245</td>\n",
       "      <td>Trendy duplex in the very heart of Hell's Kitchen</td>\n",
       "      <td>68119814</td>\n",
       "      <td>Christophe</td>\n",
       "      <td>Manhattan</td>\n",
       "      <td>Hell's Kitchen</td>\n",
       "      <td>40.76404</td>\n",
       "      <td>-73.98933</td>\n",
       "      <td>Private room</td>\n",
       "      <td>90</td>\n",
       "      <td>7</td>\n",
       "      <td>0</td>\n",
       "      <td>NaN</td>\n",
       "      <td>NaN</td>\n",
       "      <td>1</td>\n",
       "      <td>23</td>\n",
       "    </tr>\n",
       "  </tbody>\n",
       "</table>\n",
       "<p>48895 rows × 16 columns</p>\n",
       "</div>"
      ],
      "text/plain": [
       "             id                                               name   host_id  \\\n",
       "0          2539                 Clean & quiet apt home by the park      2787   \n",
       "1          2595                              Skylit Midtown Castle      2845   \n",
       "2          3647                THE VILLAGE OF HARLEM....NEW YORK !      4632   \n",
       "3          3831                    Cozy Entire Floor of Brownstone      4869   \n",
       "4          5022   Entire Apt: Spacious Studio/Loft by central park      7192   \n",
       "...         ...                                                ...       ...   \n",
       "48890  36484665    Charming one bedroom - newly renovated rowhouse   8232441   \n",
       "48891  36485057      Affordable room in Bushwick/East Williamsburg   6570630   \n",
       "48892  36485431            Sunny Studio at Historical Neighborhood  23492952   \n",
       "48893  36485609               43rd St. Time Square-cozy single bed  30985759   \n",
       "48894  36487245  Trendy duplex in the very heart of Hell's Kitchen  68119814   \n",
       "\n",
       "           host_name neighbourhood_group       neighbourhood  latitude  \\\n",
       "0               John            Brooklyn          Kensington  40.64749   \n",
       "1           Jennifer           Manhattan             Midtown  40.75362   \n",
       "2          Elisabeth           Manhattan              Harlem  40.80902   \n",
       "3        LisaRoxanne            Brooklyn        Clinton Hill  40.68514   \n",
       "4              Laura           Manhattan         East Harlem  40.79851   \n",
       "...              ...                 ...                 ...       ...   \n",
       "48890        Sabrina            Brooklyn  Bedford-Stuyvesant  40.67853   \n",
       "48891        Marisol            Brooklyn            Bushwick  40.70184   \n",
       "48892  Ilgar & Aysel           Manhattan              Harlem  40.81475   \n",
       "48893            Taz           Manhattan      Hell's Kitchen  40.75751   \n",
       "48894     Christophe           Manhattan      Hell's Kitchen  40.76404   \n",
       "\n",
       "       longitude        room_type  price  minimum_nights  number_of_reviews  \\\n",
       "0      -73.97237     Private room    149               1                  9   \n",
       "1      -73.98377  Entire home/apt    225               1                 45   \n",
       "2      -73.94190     Private room    150               3                  0   \n",
       "3      -73.95976  Entire home/apt     89               1                270   \n",
       "4      -73.94399  Entire home/apt     80              10                  9   \n",
       "...          ...              ...    ...             ...                ...   \n",
       "48890  -73.94995     Private room     70               2                  0   \n",
       "48891  -73.93317     Private room     40               4                  0   \n",
       "48892  -73.94867  Entire home/apt    115              10                  0   \n",
       "48893  -73.99112      Shared room     55               1                  0   \n",
       "48894  -73.98933     Private room     90               7                  0   \n",
       "\n",
       "      last_review  reviews_per_month  calculated_host_listings_count  \\\n",
       "0      2018-10-19               0.21                               6   \n",
       "1      2019-05-21               0.38                               2   \n",
       "2             NaN                NaN                               1   \n",
       "3      2019-07-05               4.64                               1   \n",
       "4      2018-11-19               0.10                               1   \n",
       "...           ...                ...                             ...   \n",
       "48890         NaN                NaN                               2   \n",
       "48891         NaN                NaN                               2   \n",
       "48892         NaN                NaN                               1   \n",
       "48893         NaN                NaN                               6   \n",
       "48894         NaN                NaN                               1   \n",
       "\n",
       "       availability_365  \n",
       "0                   365  \n",
       "1                   355  \n",
       "2                   365  \n",
       "3                   194  \n",
       "4                     0  \n",
       "...                 ...  \n",
       "48890                 9  \n",
       "48891                36  \n",
       "48892                27  \n",
       "48893                 2  \n",
       "48894                23  \n",
       "\n",
       "[48895 rows x 16 columns]"
      ]
     },
     "execution_count": 2,
     "metadata": {},
     "output_type": "execute_result"
    }
   ],
   "source": [
    "Airbnb_df = pd.read_csv('Airbnb_data.csv')\n",
    "Airbnb_df"
   ]
  },
  {
   "cell_type": "markdown",
   "metadata": {
    "id": "G03VU6A-EgdR"
   },
   "source": [
    "##**About the Dataset – Airbnb Bookings**\n",
    "\n",
    "*   This Airbnb dataset contains nearly 49,000 observations from New York , with 16 columns of data.\n",
    "\n",
    "*   The Data includes both categorical and numeric values, providing a diverse range of information about the listings.\n",
    "\n",
    "*   This Dataset may be useful for analyzing trends and patterns in the Airbnb market in New York and also gain insights into the preferences and behavior of Airbnb users in the area.\n",
    "\n",
    "*   This dataset contains information about Airbnb bookings in New York City in 2019. By analyzing this data, you may be able to understand the trends and patterns of Airbnb use in the NYC."
   ]
  },
  {
   "cell_type": "markdown",
   "metadata": {
    "id": "-FqwR0uC2LMB"
   },
   "source": [
    "##**UNDERSTAND THE GIVEN VARIABLES**\n",
    "\n",
    "**Listing_id :-** This is a unique identifier for each listing in the dataset.\n",
    "\n",
    "**Listing_name :-** This is the name or title of the listing, as it appears on the Airbnb website.\n",
    "\n",
    "**Host_id :-** This is a unique identifier for each host in the dataset.\n",
    "\n",
    "**Host_name :-** This is the name of the host as it appears on the Airbnb website.\n",
    "\n",
    "**Neighbourhood_group :-** This is a grouping of neighborhoods in New York City, such as Manhattan or Brooklyn.\n",
    "\n",
    "**Neighbourhood :-** This is the specific neighborhood in which the listing is located.\n",
    "\n",
    "**Latitude :-** This is the geographic latitude of the listing.\n",
    "\n",
    "**Longitude :-** This is the geographic longitude of the listing.\n",
    "\n",
    "**Room_type :-** This is the type of room or property being offered, such as an entire home, private room, shared room.\n",
    "\n",
    "**Price :-** This is the nightly price for the listing, in US dollars.\n",
    "\n",
    "**Minimum_nights :-** This is the minimum number of nights that a guest must stay at the listing.\n",
    "\n",
    "**Total_reviews :-** This is the total number of reviews that the listing has received.\n",
    "\n",
    "**Reviews_per_month :-** This is the average number of reviews that the listing receives per month.\n",
    "\n",
    "**Host_listings_count :-** This is the total number of listings that the host has on Airbnb.\n",
    "\n",
    "**Availability_365 :-** This is the number of days in the next 365 days that the listing is available for booking."
   ]
  },
  {
   "cell_type": "markdown",
   "metadata": {
    "id": "W8LglHQ0ZNUU"
   },
   "source": [
    "# **Data Exploration and Data Cleaning**"
   ]
  },
  {
   "cell_type": "code",
   "execution_count": 3,
   "metadata": {},
   "outputs": [
    {
     "data": {
      "text/html": [
       "<div>\n",
       "<style scoped>\n",
       "    .dataframe tbody tr th:only-of-type {\n",
       "        vertical-align: middle;\n",
       "    }\n",
       "\n",
       "    .dataframe tbody tr th {\n",
       "        vertical-align: top;\n",
       "    }\n",
       "\n",
       "    .dataframe thead th {\n",
       "        text-align: right;\n",
       "    }\n",
       "</style>\n",
       "<table border=\"1\" class=\"dataframe\">\n",
       "  <thead>\n",
       "    <tr style=\"text-align: right;\">\n",
       "      <th></th>\n",
       "      <th>id</th>\n",
       "      <th>name</th>\n",
       "      <th>host_id</th>\n",
       "      <th>host_name</th>\n",
       "      <th>neighbourhood_group</th>\n",
       "      <th>neighbourhood</th>\n",
       "      <th>latitude</th>\n",
       "      <th>longitude</th>\n",
       "      <th>room_type</th>\n",
       "      <th>price</th>\n",
       "      <th>minimum_nights</th>\n",
       "      <th>number_of_reviews</th>\n",
       "      <th>last_review</th>\n",
       "      <th>reviews_per_month</th>\n",
       "      <th>calculated_host_listings_count</th>\n",
       "      <th>availability_365</th>\n",
       "    </tr>\n",
       "  </thead>\n",
       "  <tbody>\n",
       "    <tr>\n",
       "      <th>0</th>\n",
       "      <td>2539</td>\n",
       "      <td>Clean &amp; quiet apt home by the park</td>\n",
       "      <td>2787</td>\n",
       "      <td>John</td>\n",
       "      <td>Brooklyn</td>\n",
       "      <td>Kensington</td>\n",
       "      <td>40.64749</td>\n",
       "      <td>-73.97237</td>\n",
       "      <td>Private room</td>\n",
       "      <td>149</td>\n",
       "      <td>1</td>\n",
       "      <td>9</td>\n",
       "      <td>2018-10-19</td>\n",
       "      <td>0.21</td>\n",
       "      <td>6</td>\n",
       "      <td>365</td>\n",
       "    </tr>\n",
       "    <tr>\n",
       "      <th>1</th>\n",
       "      <td>2595</td>\n",
       "      <td>Skylit Midtown Castle</td>\n",
       "      <td>2845</td>\n",
       "      <td>Jennifer</td>\n",
       "      <td>Manhattan</td>\n",
       "      <td>Midtown</td>\n",
       "      <td>40.75362</td>\n",
       "      <td>-73.98377</td>\n",
       "      <td>Entire home/apt</td>\n",
       "      <td>225</td>\n",
       "      <td>1</td>\n",
       "      <td>45</td>\n",
       "      <td>2019-05-21</td>\n",
       "      <td>0.38</td>\n",
       "      <td>2</td>\n",
       "      <td>355</td>\n",
       "    </tr>\n",
       "    <tr>\n",
       "      <th>2</th>\n",
       "      <td>3647</td>\n",
       "      <td>THE VILLAGE OF HARLEM....NEW YORK !</td>\n",
       "      <td>4632</td>\n",
       "      <td>Elisabeth</td>\n",
       "      <td>Manhattan</td>\n",
       "      <td>Harlem</td>\n",
       "      <td>40.80902</td>\n",
       "      <td>-73.94190</td>\n",
       "      <td>Private room</td>\n",
       "      <td>150</td>\n",
       "      <td>3</td>\n",
       "      <td>0</td>\n",
       "      <td>NaN</td>\n",
       "      <td>NaN</td>\n",
       "      <td>1</td>\n",
       "      <td>365</td>\n",
       "    </tr>\n",
       "    <tr>\n",
       "      <th>3</th>\n",
       "      <td>3831</td>\n",
       "      <td>Cozy Entire Floor of Brownstone</td>\n",
       "      <td>4869</td>\n",
       "      <td>LisaRoxanne</td>\n",
       "      <td>Brooklyn</td>\n",
       "      <td>Clinton Hill</td>\n",
       "      <td>40.68514</td>\n",
       "      <td>-73.95976</td>\n",
       "      <td>Entire home/apt</td>\n",
       "      <td>89</td>\n",
       "      <td>1</td>\n",
       "      <td>270</td>\n",
       "      <td>2019-07-05</td>\n",
       "      <td>4.64</td>\n",
       "      <td>1</td>\n",
       "      <td>194</td>\n",
       "    </tr>\n",
       "    <tr>\n",
       "      <th>4</th>\n",
       "      <td>5022</td>\n",
       "      <td>Entire Apt: Spacious Studio/Loft by central park</td>\n",
       "      <td>7192</td>\n",
       "      <td>Laura</td>\n",
       "      <td>Manhattan</td>\n",
       "      <td>East Harlem</td>\n",
       "      <td>40.79851</td>\n",
       "      <td>-73.94399</td>\n",
       "      <td>Entire home/apt</td>\n",
       "      <td>80</td>\n",
       "      <td>10</td>\n",
       "      <td>9</td>\n",
       "      <td>2018-11-19</td>\n",
       "      <td>0.10</td>\n",
       "      <td>1</td>\n",
       "      <td>0</td>\n",
       "    </tr>\n",
       "  </tbody>\n",
       "</table>\n",
       "</div>"
      ],
      "text/plain": [
       "     id                                              name  host_id  \\\n",
       "0  2539                Clean & quiet apt home by the park     2787   \n",
       "1  2595                             Skylit Midtown Castle     2845   \n",
       "2  3647               THE VILLAGE OF HARLEM....NEW YORK !     4632   \n",
       "3  3831                   Cozy Entire Floor of Brownstone     4869   \n",
       "4  5022  Entire Apt: Spacious Studio/Loft by central park     7192   \n",
       "\n",
       "     host_name neighbourhood_group neighbourhood  latitude  longitude  \\\n",
       "0         John            Brooklyn    Kensington  40.64749  -73.97237   \n",
       "1     Jennifer           Manhattan       Midtown  40.75362  -73.98377   \n",
       "2    Elisabeth           Manhattan        Harlem  40.80902  -73.94190   \n",
       "3  LisaRoxanne            Brooklyn  Clinton Hill  40.68514  -73.95976   \n",
       "4        Laura           Manhattan   East Harlem  40.79851  -73.94399   \n",
       "\n",
       "         room_type  price  minimum_nights  number_of_reviews last_review  \\\n",
       "0     Private room    149               1                  9  2018-10-19   \n",
       "1  Entire home/apt    225               1                 45  2019-05-21   \n",
       "2     Private room    150               3                  0         NaN   \n",
       "3  Entire home/apt     89               1                270  2019-07-05   \n",
       "4  Entire home/apt     80              10                  9  2018-11-19   \n",
       "\n",
       "   reviews_per_month  calculated_host_listings_count  availability_365  \n",
       "0               0.21                               6               365  \n",
       "1               0.38                               2               355  \n",
       "2                NaN                               1               365  \n",
       "3               4.64                               1               194  \n",
       "4               0.10                               1                 0  "
      ]
     },
     "execution_count": 3,
     "metadata": {},
     "output_type": "execute_result"
    }
   ],
   "source": [
    "Airbnb_df.head()"
   ]
  },
  {
   "cell_type": "code",
   "execution_count": 4,
   "metadata": {
    "colab": {
     "base_uri": "https://localhost:8080/",
     "height": 568
    },
    "id": "r-_dWJLkczy8",
    "outputId": "dea63354-19e5-49d8-f90c-92585f452e82"
   },
   "outputs": [
    {
     "data": {
      "text/html": [
       "<div>\n",
       "<style scoped>\n",
       "    .dataframe tbody tr th:only-of-type {\n",
       "        vertical-align: middle;\n",
       "    }\n",
       "\n",
       "    .dataframe tbody tr th {\n",
       "        vertical-align: top;\n",
       "    }\n",
       "\n",
       "    .dataframe thead th {\n",
       "        text-align: right;\n",
       "    }\n",
       "</style>\n",
       "<table border=\"1\" class=\"dataframe\">\n",
       "  <thead>\n",
       "    <tr style=\"text-align: right;\">\n",
       "      <th></th>\n",
       "      <th>0</th>\n",
       "      <th>1</th>\n",
       "      <th>2</th>\n",
       "      <th>3</th>\n",
       "      <th>4</th>\n",
       "    </tr>\n",
       "  </thead>\n",
       "  <tbody>\n",
       "    <tr>\n",
       "      <th>id</th>\n",
       "      <td>2539</td>\n",
       "      <td>2595</td>\n",
       "      <td>3647</td>\n",
       "      <td>3831</td>\n",
       "      <td>5022</td>\n",
       "    </tr>\n",
       "    <tr>\n",
       "      <th>name</th>\n",
       "      <td>Clean &amp; quiet apt home by the park</td>\n",
       "      <td>Skylit Midtown Castle</td>\n",
       "      <td>THE VILLAGE OF HARLEM....NEW YORK !</td>\n",
       "      <td>Cozy Entire Floor of Brownstone</td>\n",
       "      <td>Entire Apt: Spacious Studio/Loft by central park</td>\n",
       "    </tr>\n",
       "    <tr>\n",
       "      <th>host_id</th>\n",
       "      <td>2787</td>\n",
       "      <td>2845</td>\n",
       "      <td>4632</td>\n",
       "      <td>4869</td>\n",
       "      <td>7192</td>\n",
       "    </tr>\n",
       "    <tr>\n",
       "      <th>host_name</th>\n",
       "      <td>John</td>\n",
       "      <td>Jennifer</td>\n",
       "      <td>Elisabeth</td>\n",
       "      <td>LisaRoxanne</td>\n",
       "      <td>Laura</td>\n",
       "    </tr>\n",
       "    <tr>\n",
       "      <th>neighbourhood_group</th>\n",
       "      <td>Brooklyn</td>\n",
       "      <td>Manhattan</td>\n",
       "      <td>Manhattan</td>\n",
       "      <td>Brooklyn</td>\n",
       "      <td>Manhattan</td>\n",
       "    </tr>\n",
       "    <tr>\n",
       "      <th>neighbourhood</th>\n",
       "      <td>Kensington</td>\n",
       "      <td>Midtown</td>\n",
       "      <td>Harlem</td>\n",
       "      <td>Clinton Hill</td>\n",
       "      <td>East Harlem</td>\n",
       "    </tr>\n",
       "    <tr>\n",
       "      <th>latitude</th>\n",
       "      <td>40.64749</td>\n",
       "      <td>40.75362</td>\n",
       "      <td>40.80902</td>\n",
       "      <td>40.68514</td>\n",
       "      <td>40.79851</td>\n",
       "    </tr>\n",
       "    <tr>\n",
       "      <th>longitude</th>\n",
       "      <td>-73.97237</td>\n",
       "      <td>-73.98377</td>\n",
       "      <td>-73.9419</td>\n",
       "      <td>-73.95976</td>\n",
       "      <td>-73.94399</td>\n",
       "    </tr>\n",
       "    <tr>\n",
       "      <th>room_type</th>\n",
       "      <td>Private room</td>\n",
       "      <td>Entire home/apt</td>\n",
       "      <td>Private room</td>\n",
       "      <td>Entire home/apt</td>\n",
       "      <td>Entire home/apt</td>\n",
       "    </tr>\n",
       "    <tr>\n",
       "      <th>price</th>\n",
       "      <td>149</td>\n",
       "      <td>225</td>\n",
       "      <td>150</td>\n",
       "      <td>89</td>\n",
       "      <td>80</td>\n",
       "    </tr>\n",
       "    <tr>\n",
       "      <th>minimum_nights</th>\n",
       "      <td>1</td>\n",
       "      <td>1</td>\n",
       "      <td>3</td>\n",
       "      <td>1</td>\n",
       "      <td>10</td>\n",
       "    </tr>\n",
       "    <tr>\n",
       "      <th>number_of_reviews</th>\n",
       "      <td>9</td>\n",
       "      <td>45</td>\n",
       "      <td>0</td>\n",
       "      <td>270</td>\n",
       "      <td>9</td>\n",
       "    </tr>\n",
       "    <tr>\n",
       "      <th>last_review</th>\n",
       "      <td>2018-10-19</td>\n",
       "      <td>2019-05-21</td>\n",
       "      <td>NaN</td>\n",
       "      <td>2019-07-05</td>\n",
       "      <td>2018-11-19</td>\n",
       "    </tr>\n",
       "    <tr>\n",
       "      <th>reviews_per_month</th>\n",
       "      <td>0.21</td>\n",
       "      <td>0.38</td>\n",
       "      <td>NaN</td>\n",
       "      <td>4.64</td>\n",
       "      <td>0.1</td>\n",
       "    </tr>\n",
       "    <tr>\n",
       "      <th>calculated_host_listings_count</th>\n",
       "      <td>6</td>\n",
       "      <td>2</td>\n",
       "      <td>1</td>\n",
       "      <td>1</td>\n",
       "      <td>1</td>\n",
       "    </tr>\n",
       "    <tr>\n",
       "      <th>availability_365</th>\n",
       "      <td>365</td>\n",
       "      <td>355</td>\n",
       "      <td>365</td>\n",
       "      <td>194</td>\n",
       "      <td>0</td>\n",
       "    </tr>\n",
       "  </tbody>\n",
       "</table>\n",
       "</div>"
      ],
      "text/plain": [
       "                                                                 0  \\\n",
       "id                                                            2539   \n",
       "name                            Clean & quiet apt home by the park   \n",
       "host_id                                                       2787   \n",
       "host_name                                                     John   \n",
       "neighbourhood_group                                       Brooklyn   \n",
       "neighbourhood                                           Kensington   \n",
       "latitude                                                  40.64749   \n",
       "longitude                                                -73.97237   \n",
       "room_type                                             Private room   \n",
       "price                                                          149   \n",
       "minimum_nights                                                   1   \n",
       "number_of_reviews                                                9   \n",
       "last_review                                             2018-10-19   \n",
       "reviews_per_month                                             0.21   \n",
       "calculated_host_listings_count                                   6   \n",
       "availability_365                                               365   \n",
       "\n",
       "                                                    1  \\\n",
       "id                                               2595   \n",
       "name                            Skylit Midtown Castle   \n",
       "host_id                                          2845   \n",
       "host_name                                    Jennifer   \n",
       "neighbourhood_group                         Manhattan   \n",
       "neighbourhood                                 Midtown   \n",
       "latitude                                     40.75362   \n",
       "longitude                                   -73.98377   \n",
       "room_type                             Entire home/apt   \n",
       "price                                             225   \n",
       "minimum_nights                                      1   \n",
       "number_of_reviews                                  45   \n",
       "last_review                                2019-05-21   \n",
       "reviews_per_month                                0.38   \n",
       "calculated_host_listings_count                      2   \n",
       "availability_365                                  355   \n",
       "\n",
       "                                                                  2  \\\n",
       "id                                                             3647   \n",
       "name                            THE VILLAGE OF HARLEM....NEW YORK !   \n",
       "host_id                                                        4632   \n",
       "host_name                                                 Elisabeth   \n",
       "neighbourhood_group                                       Manhattan   \n",
       "neighbourhood                                                Harlem   \n",
       "latitude                                                   40.80902   \n",
       "longitude                                                  -73.9419   \n",
       "room_type                                              Private room   \n",
       "price                                                           150   \n",
       "minimum_nights                                                    3   \n",
       "number_of_reviews                                                 0   \n",
       "last_review                                                     NaN   \n",
       "reviews_per_month                                               NaN   \n",
       "calculated_host_listings_count                                    1   \n",
       "availability_365                                                365   \n",
       "\n",
       "                                                              3  \\\n",
       "id                                                         3831   \n",
       "name                            Cozy Entire Floor of Brownstone   \n",
       "host_id                                                    4869   \n",
       "host_name                                           LisaRoxanne   \n",
       "neighbourhood_group                                    Brooklyn   \n",
       "neighbourhood                                      Clinton Hill   \n",
       "latitude                                               40.68514   \n",
       "longitude                                             -73.95976   \n",
       "room_type                                       Entire home/apt   \n",
       "price                                                        89   \n",
       "minimum_nights                                                1   \n",
       "number_of_reviews                                           270   \n",
       "last_review                                          2019-07-05   \n",
       "reviews_per_month                                          4.64   \n",
       "calculated_host_listings_count                                1   \n",
       "availability_365                                            194   \n",
       "\n",
       "                                                                               4  \n",
       "id                                                                          5022  \n",
       "name                            Entire Apt: Spacious Studio/Loft by central park  \n",
       "host_id                                                                     7192  \n",
       "host_name                                                                  Laura  \n",
       "neighbourhood_group                                                    Manhattan  \n",
       "neighbourhood                                                        East Harlem  \n",
       "latitude                                                                40.79851  \n",
       "longitude                                                              -73.94399  \n",
       "room_type                                                        Entire home/apt  \n",
       "price                                                                         80  \n",
       "minimum_nights                                                                10  \n",
       "number_of_reviews                                                              9  \n",
       "last_review                                                           2018-11-19  \n",
       "reviews_per_month                                                            0.1  \n",
       "calculated_host_listings_count                                                 1  \n",
       "availability_365                                                               0  "
      ]
     },
     "execution_count": 4,
     "metadata": {},
     "output_type": "execute_result"
    }
   ],
   "source": [
    "Airbnb_df.head().T"
   ]
  },
  {
   "cell_type": "code",
   "execution_count": 5,
   "metadata": {
    "colab": {
     "base_uri": "https://localhost:8080/"
    },
    "id": "oEXYbbdjZRmV",
    "outputId": "2c6622c9-f98b-4019-944f-0be38c491658"
   },
   "outputs": [
    {
     "data": {
      "text/plain": [
       "Index(['id', 'name', 'host_id', 'host_name', 'neighbourhood_group',\n",
       "       'neighbourhood', 'latitude', 'longitude', 'room_type', 'price',\n",
       "       'minimum_nights', 'number_of_reviews', 'last_review',\n",
       "       'reviews_per_month', 'calculated_host_listings_count',\n",
       "       'availability_365'],\n",
       "      dtype='object')"
      ]
     },
     "execution_count": 5,
     "metadata": {},
     "output_type": "execute_result"
    }
   ],
   "source": [
    "#checking what are the variables here:\n",
    "Airbnb_df.columns"
   ]
  },
  {
   "cell_type": "markdown",
   "metadata": {
    "id": "LVvfr_rRvMIQ"
   },
   "source": [
    "\n",
    "\n",
    "---\n",
    "\n",
    "\n",
    "*   **so now first rename few columns for better understanding of variables -**"
   ]
  },
  {
   "cell_type": "code",
   "execution_count": 6,
   "metadata": {
    "id": "9h9CiFXHvlTD"
   },
   "outputs": [],
   "source": [
    "rename_col = {'id':'listing_id','name':'listing_name','number_of_reviews':'total_reviews','calculated_host_listings_count':'host_listings_count'}"
   ]
  },
  {
   "cell_type": "code",
   "execution_count": 7,
   "metadata": {
    "colab": {
     "base_uri": "https://localhost:8080/",
     "height": 184
    },
    "id": "p1PVbptdzPHH",
    "outputId": "9378a057-c558-40a4-fc6f-2665a770e58e"
   },
   "outputs": [
    {
     "data": {
      "text/html": [
       "<div>\n",
       "<style scoped>\n",
       "    .dataframe tbody tr th:only-of-type {\n",
       "        vertical-align: middle;\n",
       "    }\n",
       "\n",
       "    .dataframe tbody tr th {\n",
       "        vertical-align: top;\n",
       "    }\n",
       "\n",
       "    .dataframe thead th {\n",
       "        text-align: right;\n",
       "    }\n",
       "</style>\n",
       "<table border=\"1\" class=\"dataframe\">\n",
       "  <thead>\n",
       "    <tr style=\"text-align: right;\">\n",
       "      <th></th>\n",
       "      <th>listing_id</th>\n",
       "      <th>listing_name</th>\n",
       "      <th>host_id</th>\n",
       "      <th>host_name</th>\n",
       "      <th>neighbourhood_group</th>\n",
       "      <th>neighbourhood</th>\n",
       "      <th>latitude</th>\n",
       "      <th>longitude</th>\n",
       "      <th>room_type</th>\n",
       "      <th>price</th>\n",
       "      <th>minimum_nights</th>\n",
       "      <th>total_reviews</th>\n",
       "      <th>last_review</th>\n",
       "      <th>reviews_per_month</th>\n",
       "      <th>host_listings_count</th>\n",
       "      <th>availability_365</th>\n",
       "    </tr>\n",
       "  </thead>\n",
       "  <tbody>\n",
       "    <tr>\n",
       "      <th>0</th>\n",
       "      <td>2539</td>\n",
       "      <td>Clean &amp; quiet apt home by the park</td>\n",
       "      <td>2787</td>\n",
       "      <td>John</td>\n",
       "      <td>Brooklyn</td>\n",
       "      <td>Kensington</td>\n",
       "      <td>40.64749</td>\n",
       "      <td>-73.97237</td>\n",
       "      <td>Private room</td>\n",
       "      <td>149</td>\n",
       "      <td>1</td>\n",
       "      <td>9</td>\n",
       "      <td>2018-10-19</td>\n",
       "      <td>0.21</td>\n",
       "      <td>6</td>\n",
       "      <td>365</td>\n",
       "    </tr>\n",
       "    <tr>\n",
       "      <th>1</th>\n",
       "      <td>2595</td>\n",
       "      <td>Skylit Midtown Castle</td>\n",
       "      <td>2845</td>\n",
       "      <td>Jennifer</td>\n",
       "      <td>Manhattan</td>\n",
       "      <td>Midtown</td>\n",
       "      <td>40.75362</td>\n",
       "      <td>-73.98377</td>\n",
       "      <td>Entire home/apt</td>\n",
       "      <td>225</td>\n",
       "      <td>1</td>\n",
       "      <td>45</td>\n",
       "      <td>2019-05-21</td>\n",
       "      <td>0.38</td>\n",
       "      <td>2</td>\n",
       "      <td>355</td>\n",
       "    </tr>\n",
       "  </tbody>\n",
       "</table>\n",
       "</div>"
      ],
      "text/plain": [
       "   listing_id                        listing_name  host_id host_name  \\\n",
       "0        2539  Clean & quiet apt home by the park     2787      John   \n",
       "1        2595               Skylit Midtown Castle     2845  Jennifer   \n",
       "\n",
       "  neighbourhood_group neighbourhood  latitude  longitude        room_type  \\\n",
       "0            Brooklyn    Kensington  40.64749  -73.97237     Private room   \n",
       "1           Manhattan       Midtown  40.75362  -73.98377  Entire home/apt   \n",
       "\n",
       "   price  minimum_nights  total_reviews last_review  reviews_per_month  \\\n",
       "0    149               1              9  2018-10-19               0.21   \n",
       "1    225               1             45  2019-05-21               0.38   \n",
       "\n",
       "   host_listings_count  availability_365  \n",
       "0                    6               365  \n",
       "1                    2               355  "
      ]
     },
     "execution_count": 7,
     "metadata": {},
     "output_type": "execute_result"
    }
   ],
   "source": [
    "# use a pandas function to rename the current function\n",
    "Airbnb_df = Airbnb_df.rename(columns = rename_col)\n",
    "Airbnb_df.head(2)"
   ]
  },
  {
   "cell_type": "code",
   "execution_count": 8,
   "metadata": {
    "colab": {
     "base_uri": "https://localhost:8080/"
    },
    "id": "3Vu35YJy5BUM",
    "outputId": "8a5cccd1-a90a-4cb8-da3d-66dd7606278c"
   },
   "outputs": [
    {
     "data": {
      "text/plain": [
       "(48895, 16)"
      ]
     },
     "execution_count": 8,
     "metadata": {},
     "output_type": "execute_result"
    }
   ],
   "source": [
    "#checking shape of Airbnb dataset\n",
    "Airbnb_df.shape"
   ]
  },
  {
   "cell_type": "code",
   "execution_count": 9,
   "metadata": {
    "colab": {
     "base_uri": "https://localhost:8080/"
    },
    "id": "4XAUpXxMcxVU",
    "outputId": "4c780e3b-0d09-4d7b-aaee-719cfeb500c6"
   },
   "outputs": [
    {
     "name": "stdout",
     "output_type": "stream",
     "text": [
      "<class 'pandas.core.frame.DataFrame'>\n",
      "RangeIndex: 48895 entries, 0 to 48894\n",
      "Data columns (total 16 columns):\n",
      " #   Column               Non-Null Count  Dtype  \n",
      "---  ------               --------------  -----  \n",
      " 0   listing_id           48895 non-null  int64  \n",
      " 1   listing_name         48879 non-null  object \n",
      " 2   host_id              48895 non-null  int64  \n",
      " 3   host_name            48874 non-null  object \n",
      " 4   neighbourhood_group  48895 non-null  object \n",
      " 5   neighbourhood        48895 non-null  object \n",
      " 6   latitude             48895 non-null  float64\n",
      " 7   longitude            48895 non-null  float64\n",
      " 8   room_type            48895 non-null  object \n",
      " 9   price                48895 non-null  int64  \n",
      " 10  minimum_nights       48895 non-null  int64  \n",
      " 11  total_reviews        48895 non-null  int64  \n",
      " 12  last_review          38843 non-null  object \n",
      " 13  reviews_per_month    38843 non-null  float64\n",
      " 14  host_listings_count  48895 non-null  int64  \n",
      " 15  availability_365     48895 non-null  int64  \n",
      "dtypes: float64(3), int64(7), object(6)\n",
      "memory usage: 6.0+ MB\n"
     ]
    }
   ],
   "source": [
    "#basic information/overview about the dataset\n",
    "Airbnb_df.info()"
   ]
  },
  {
   "cell_type": "markdown",
   "metadata": {
    "id": "gmLxfQwUnAko"
   },
   "source": [
    "**So, host_name, neighbourhood_group, neighbourhood and room_type columns fall into categorical variable category.**\n",
    "\n",
    "**While host_id, latitude, longitude, price, minimum_nights, number_of_reviews, reviews_per_month, host_listings_count, availability_365 are numerical variables**\n",
    "\n",
    "---"
   ]
  },
  {
   "cell_type": "code",
   "execution_count": 10,
   "metadata": {},
   "outputs": [
    {
     "data": {
      "text/plain": [
       "0"
      ]
     },
     "execution_count": 10,
     "metadata": {},
     "output_type": "execute_result"
    }
   ],
   "source": [
    " # check duplicate rows in dataset\n",
    "Airbnb_df1 =Airbnb_df.duplicated().sum()\n",
    "Airbnb_df1"
   ]
  },
  {
   "cell_type": "code",
   "execution_count": 11,
   "metadata": {
    "colab": {
     "base_uri": "https://localhost:8080/"
    },
    "id": "EK2IHDhI051v",
    "outputId": "cccb3ab0-0e9f-4337-ea59-cc0b5a5d5827"
   },
   "outputs": [
    {
     "data": {
      "text/plain": [
       "listing_id             48895\n",
       "listing_name           48879\n",
       "host_id                48895\n",
       "host_name              48874\n",
       "neighbourhood_group    48895\n",
       "neighbourhood          48895\n",
       "latitude               48895\n",
       "longitude              48895\n",
       "room_type              48895\n",
       "price                  48895\n",
       "minimum_nights         48895\n",
       "total_reviews          48895\n",
       "last_review            38843\n",
       "reviews_per_month      38843\n",
       "host_listings_count    48895\n",
       "availability_365       48895\n",
       "dtype: int64"
      ]
     },
     "execution_count": 11,
     "metadata": {},
     "output_type": "execute_result"
    }
   ],
   "source": [
    "# check duplicate rows in dataset\n",
    "Airbnb_df = Airbnb_df.drop_duplicates()\n",
    "Airbnb_df.count()"
   ]
  },
  {
   "cell_type": "markdown",
   "metadata": {
    "id": "5tHroqXp2eFR"
   },
   "source": [
    "**so, there are no duplicate rows in Dataset**\n",
    "\n",
    "---"
   ]
  },
  {
   "cell_type": "code",
   "execution_count": 12,
   "metadata": {
    "colab": {
     "base_uri": "https://localhost:8080/"
    },
    "id": "8zstihyR2559",
    "outputId": "a0f30b43-b5a6-4126-e65e-ca105f7c0586"
   },
   "outputs": [
    {
     "data": {
      "text/plain": [
       "listing_id                 0\n",
       "listing_name              16\n",
       "host_id                    0\n",
       "host_name                 21\n",
       "neighbourhood_group        0\n",
       "neighbourhood              0\n",
       "latitude                   0\n",
       "longitude                  0\n",
       "room_type                  0\n",
       "price                      0\n",
       "minimum_nights             0\n",
       "total_reviews              0\n",
       "last_review            10052\n",
       "reviews_per_month      10052\n",
       "host_listings_count        0\n",
       "availability_365           0\n",
       "dtype: int64"
      ]
     },
     "execution_count": 12,
     "metadata": {},
     "output_type": "execute_result"
    }
   ],
   "source": [
    "# checking null values in each columns\n",
    "Airbnb_df.isnull().sum()"
   ]
  },
  {
   "cell_type": "markdown",
   "metadata": {
    "id": "3UjqVbxn3usk"
   },
   "source": [
    "\n",
    "**host_name** and **listing_name** dont have much of null values, so first  we are good to fill those with some substitutes first\n"
   ]
  },
  {
   "cell_type": "code",
   "execution_count": 13,
   "metadata": {
    "id": "olPllrOS68vU"
   },
   "outputs": [],
   "source": [
    "Airbnb_df['listing_name'].fillna('unknown',inplace=True)\n",
    "Airbnb_df['host_name'].fillna('no_name',inplace=True)"
   ]
  },
  {
   "cell_type": "code",
   "execution_count": 14,
   "metadata": {
    "colab": {
     "base_uri": "https://localhost:8080/"
    },
    "id": "X-DIp5Ef8LEi",
    "outputId": "9731f16f-2304-47ae-87f5-fbe2e2aa5ccd"
   },
   "outputs": [
    {
     "data": {
      "text/plain": [
       "host_name       0\n",
       "listing_name    0\n",
       "dtype: int64"
      ]
     },
     "execution_count": 14,
     "metadata": {},
     "output_type": "execute_result"
    }
   ],
   "source": [
    "#so the null values are replaced\n",
    "Airbnb_df[['host_name','listing_name']].isnull().sum()"
   ]
  },
  {
   "cell_type": "markdown",
   "metadata": {
    "id": "XgCAXWHg8xHP"
   },
   "source": [
    "now, the columns **last_review** and **reviews_per_month** have total 10052 null values each.\n",
    "\n",
    "**last_review** column is not required for our analysis as compared to **number_of_reviews** & **reviews_per_month**. We're good to drop this column.\n",
    "\n",
    "**listing_id** is also not of much importance for our analysis but we cant remove because of **listing_id** and **listing_name** are kind of a pair and removing listing_id still wont make much difference. "
   ]
  },
  {
   "cell_type": "code",
   "execution_count": 15,
   "metadata": {
    "id": "lfAPQAe49Uig"
   },
   "outputs": [],
   "source": [
    "Airbnb_df = Airbnb_df.drop(['last_review'], axis=1)     #removing last_review column beacause of less significance"
   ]
  },
  {
   "cell_type": "code",
   "execution_count": 16,
   "metadata": {
    "colab": {
     "base_uri": "https://localhost:8080/"
    },
    "id": "JpmpMrOR-OCr",
    "outputId": "0e8fd366-5cf4-4f5a-d169-d533a3af07d7"
   },
   "outputs": [
    {
     "name": "stdout",
     "output_type": "stream",
     "text": [
      "<class 'pandas.core.frame.DataFrame'>\n",
      "Int64Index: 48895 entries, 0 to 48894\n",
      "Data columns (total 15 columns):\n",
      " #   Column               Non-Null Count  Dtype  \n",
      "---  ------               --------------  -----  \n",
      " 0   listing_id           48895 non-null  int64  \n",
      " 1   listing_name         48895 non-null  object \n",
      " 2   host_id              48895 non-null  int64  \n",
      " 3   host_name            48895 non-null  object \n",
      " 4   neighbourhood_group  48895 non-null  object \n",
      " 5   neighbourhood        48895 non-null  object \n",
      " 6   latitude             48895 non-null  float64\n",
      " 7   longitude            48895 non-null  float64\n",
      " 8   room_type            48895 non-null  object \n",
      " 9   price                48895 non-null  int64  \n",
      " 10  minimum_nights       48895 non-null  int64  \n",
      " 11  total_reviews        48895 non-null  int64  \n",
      " 12  reviews_per_month    38843 non-null  float64\n",
      " 13  host_listings_count  48895 non-null  int64  \n",
      " 14  availability_365     48895 non-null  int64  \n",
      "dtypes: float64(3), int64(7), object(5)\n",
      "memory usage: 6.0+ MB\n"
     ]
    }
   ],
   "source": [
    "Airbnb_df.info()      # updated dataframe"
   ]
  },
  {
   "cell_type": "markdown",
   "metadata": {
    "id": "SYsz042S-aEB"
   },
   "source": [
    "The **reviews_per_month** column also contains null values and we can simple put 0 reviews by replacing NAN's\n",
    "as no review and 0 review is quite the same."
   ]
  },
  {
   "cell_type": "code",
   "execution_count": 17,
   "metadata": {
    "id": "zv4VWWyu-xXV"
   },
   "outputs": [],
   "source": [
    "Airbnb_df['reviews_per_month'] = Airbnb_df['reviews_per_month'].replace(to_replace=np.nan,value=0).astype('int64')"
   ]
  },
  {
   "cell_type": "code",
   "execution_count": 18,
   "metadata": {
    "colab": {
     "base_uri": "https://localhost:8080/"
    },
    "id": "2pHYAu-n_Z62",
    "outputId": "6c4bc646-aaf6-4170-c3b6-6e8484923b7f"
   },
   "outputs": [
    {
     "data": {
      "text/plain": [
       "0"
      ]
     },
     "execution_count": 18,
     "metadata": {},
     "output_type": "execute_result"
    }
   ],
   "source": [
    "# the null values are replaced by 0 value\n",
    "Airbnb_df['reviews_per_month'].isnull().sum()"
   ]
  },
  {
   "cell_type": "markdown",
   "metadata": {
    "id": "6lRrY3Av2ZEY"
   },
   "source": [
    "**so there are no null values now in 'reviews_per_month' column** because we replaced null values by 0 value."
   ]
  },
  {
   "cell_type": "code",
   "execution_count": 19,
   "metadata": {
    "colab": {
     "base_uri": "https://localhost:8080/",
     "height": 486
    },
    "id": "0VflTbs6B0rv",
    "outputId": "78cb34a8-e2f5-426b-cf6a-a68dcac71395"
   },
   "outputs": [
    {
     "data": {
      "text/html": [
       "<div>\n",
       "<style scoped>\n",
       "    .dataframe tbody tr th:only-of-type {\n",
       "        vertical-align: middle;\n",
       "    }\n",
       "\n",
       "    .dataframe tbody tr th {\n",
       "        vertical-align: top;\n",
       "    }\n",
       "\n",
       "    .dataframe thead th {\n",
       "        text-align: right;\n",
       "    }\n",
       "</style>\n",
       "<table border=\"1\" class=\"dataframe\">\n",
       "  <thead>\n",
       "    <tr style=\"text-align: right;\">\n",
       "      <th></th>\n",
       "      <th>listing_id</th>\n",
       "      <th>listing_name</th>\n",
       "      <th>host_id</th>\n",
       "      <th>host_name</th>\n",
       "      <th>neighbourhood_group</th>\n",
       "      <th>neighbourhood</th>\n",
       "      <th>latitude</th>\n",
       "      <th>longitude</th>\n",
       "      <th>room_type</th>\n",
       "      <th>price</th>\n",
       "      <th>minimum_nights</th>\n",
       "      <th>total_reviews</th>\n",
       "      <th>reviews_per_month</th>\n",
       "      <th>host_listings_count</th>\n",
       "      <th>availability_365</th>\n",
       "    </tr>\n",
       "  </thead>\n",
       "  <tbody>\n",
       "    <tr>\n",
       "      <th>7572</th>\n",
       "      <td>5679938</td>\n",
       "      <td>Stunning Furnished Modern Studio</td>\n",
       "      <td>1303542</td>\n",
       "      <td>Frank</td>\n",
       "      <td>Manhattan</td>\n",
       "      <td>Financial District</td>\n",
       "      <td>40.70909</td>\n",
       "      <td>-74.00579</td>\n",
       "      <td>Entire home/apt</td>\n",
       "      <td>150</td>\n",
       "      <td>90</td>\n",
       "      <td>3</td>\n",
       "      <td>0</td>\n",
       "      <td>1</td>\n",
       "      <td>86</td>\n",
       "    </tr>\n",
       "    <tr>\n",
       "      <th>28291</th>\n",
       "      <td>21998044</td>\n",
       "      <td>Cozy, private room near Prospect Park &amp; BK Museum</td>\n",
       "      <td>4102079</td>\n",
       "      <td>Rodrigo</td>\n",
       "      <td>Brooklyn</td>\n",
       "      <td>Prospect Heights</td>\n",
       "      <td>40.67487</td>\n",
       "      <td>-73.96409</td>\n",
       "      <td>Private room</td>\n",
       "      <td>75</td>\n",
       "      <td>1</td>\n",
       "      <td>65</td>\n",
       "      <td>4</td>\n",
       "      <td>1</td>\n",
       "      <td>313</td>\n",
       "    </tr>\n",
       "    <tr>\n",
       "      <th>36450</th>\n",
       "      <td>28979690</td>\n",
       "      <td>My Place</td>\n",
       "      <td>218428676</td>\n",
       "      <td>Barbie</td>\n",
       "      <td>Manhattan</td>\n",
       "      <td>Washington Heights</td>\n",
       "      <td>40.83912</td>\n",
       "      <td>-73.94327</td>\n",
       "      <td>Private room</td>\n",
       "      <td>140</td>\n",
       "      <td>1</td>\n",
       "      <td>0</td>\n",
       "      <td>0</td>\n",
       "      <td>1</td>\n",
       "      <td>363</td>\n",
       "    </tr>\n",
       "    <tr>\n",
       "      <th>35326</th>\n",
       "      <td>28020352</td>\n",
       "      <td>Rare Downtown First Floor Apt w Private Backyard</td>\n",
       "      <td>16714191</td>\n",
       "      <td>Nicolas</td>\n",
       "      <td>Manhattan</td>\n",
       "      <td>Gramercy</td>\n",
       "      <td>40.73580</td>\n",
       "      <td>-73.98060</td>\n",
       "      <td>Entire home/apt</td>\n",
       "      <td>160</td>\n",
       "      <td>3</td>\n",
       "      <td>6</td>\n",
       "      <td>0</td>\n",
       "      <td>1</td>\n",
       "      <td>351</td>\n",
       "    </tr>\n",
       "    <tr>\n",
       "      <th>397</th>\n",
       "      <td>125594</td>\n",
       "      <td>SUPER BIG AND COZY PRIVATE BEDROOM</td>\n",
       "      <td>308652</td>\n",
       "      <td>Antonín</td>\n",
       "      <td>Brooklyn</td>\n",
       "      <td>Kensington</td>\n",
       "      <td>40.64302</td>\n",
       "      <td>-73.97255</td>\n",
       "      <td>Private room</td>\n",
       "      <td>39</td>\n",
       "      <td>1</td>\n",
       "      <td>82</td>\n",
       "      <td>0</td>\n",
       "      <td>2</td>\n",
       "      <td>365</td>\n",
       "    </tr>\n",
       "  </tbody>\n",
       "</table>\n",
       "</div>"
      ],
      "text/plain": [
       "       listing_id                                       listing_name  \\\n",
       "7572      5679938                   Stunning Furnished Modern Studio   \n",
       "28291    21998044  Cozy, private room near Prospect Park & BK Museum   \n",
       "36450    28979690                                           My Place   \n",
       "35326    28020352   Rare Downtown First Floor Apt w Private Backyard   \n",
       "397        125594                 SUPER BIG AND COZY PRIVATE BEDROOM   \n",
       "\n",
       "         host_id host_name neighbourhood_group       neighbourhood  latitude  \\\n",
       "7572     1303542     Frank           Manhattan  Financial District  40.70909   \n",
       "28291    4102079   Rodrigo            Brooklyn    Prospect Heights  40.67487   \n",
       "36450  218428676    Barbie           Manhattan  Washington Heights  40.83912   \n",
       "35326   16714191   Nicolas           Manhattan            Gramercy  40.73580   \n",
       "397       308652   Antonín            Brooklyn          Kensington  40.64302   \n",
       "\n",
       "       longitude        room_type  price  minimum_nights  total_reviews  \\\n",
       "7572   -74.00579  Entire home/apt    150              90              3   \n",
       "28291  -73.96409     Private room     75               1             65   \n",
       "36450  -73.94327     Private room    140               1              0   \n",
       "35326  -73.98060  Entire home/apt    160               3              6   \n",
       "397    -73.97255     Private room     39               1             82   \n",
       "\n",
       "       reviews_per_month  host_listings_count  availability_365  \n",
       "7572                   0                    1                86  \n",
       "28291                  4                    1               313  \n",
       "36450                  0                    1               363  \n",
       "35326                  0                    1               351  \n",
       "397                    0                    2               365  "
      ]
     },
     "execution_count": 19,
     "metadata": {},
     "output_type": "execute_result"
    }
   ],
   "source": [
    "#so now check Dataset with updated columns and null values, last_review column removed.\n",
    "Airbnb_df.sample(5)"
   ]
  },
  {
   "cell_type": "markdown",
   "metadata": {
    "id": "1UkycirABx5O"
   },
   "source": [
    "---\n",
    "### **Checking unique value in variables and doing some experiments -**"
   ]
  },
  {
   "cell_type": "code",
   "execution_count": 20,
   "metadata": {
    "colab": {
     "base_uri": "https://localhost:8080/"
    },
    "id": "FwqiusyuhxDQ",
    "outputId": "cc47b742-9a35-4f0f-8631-74b99015e3d3"
   },
   "outputs": [
    {
     "data": {
      "text/plain": [
       "48895"
      ]
     },
     "execution_count": 20,
     "metadata": {},
     "output_type": "execute_result"
    }
   ],
   "source": [
    "# check unique values for listing/property Ids\n",
    "# all the listing ids are different and each listings are different here.\n",
    "Airbnb_df['listing_id'].nunique()"
   ]
  },
  {
   "cell_type": "code",
   "execution_count": 21,
   "metadata": {
    "colab": {
     "base_uri": "https://localhost:8080/"
    },
    "id": "WGGivYjeC1xn",
    "outputId": "a7d9a2e2-c51f-44ab-f9f4-b0569571a0fe"
   },
   "outputs": [
    {
     "data": {
      "text/plain": [
       "221"
      ]
     },
     "execution_count": 21,
     "metadata": {},
     "output_type": "execute_result"
    }
   ],
   "source": [
    "# so there are 221 unique neighborhood in Dataset\n",
    "Airbnb_df['neighbourhood'].nunique()"
   ]
  },
  {
   "cell_type": "code",
   "execution_count": null,
   "metadata": {
    "colab": {
     "base_uri": "https://localhost:8080/"
    },
    "id": "wNg0plCkD0ch",
    "outputId": "07b3aa28-1ec3-4b19-e150-2928ed198bb3"
   },
   "outputs": [],
   "source": [
    "#and total 5 unique neighborhood_group in Dataset\n",
    "Airbnb_df['neighbourhood_group'].nunique()"
   ]
  },
  {
   "cell_type": "code",
   "execution_count": null,
   "metadata": {
    "colab": {
     "base_uri": "https://localhost:8080/"
    },
    "id": "aOLhGGTUExID",
    "outputId": "9d4feddb-7e76-44bc-c83e-5e9bee8e97cc"
   },
   "outputs": [],
   "source": [
    "#so total 11453 different hosts in Airbnb-NYC\n",
    "Airbnb_df['host_name'].nunique()"
   ]
  },
  {
   "cell_type": "code",
   "execution_count": null,
   "metadata": {
    "colab": {
     "base_uri": "https://localhost:8080/"
    },
    "id": "jIqExl_eoJoX",
    "outputId": "d674af72-03bb-4dfb-c41f-f3443b20b18c"
   },
   "outputs": [],
   "source": [
    "# most of the listing/property are different in Dataset\n",
    "Airbnb_df['listing_name'].nunique()"
   ]
  },
  {
   "cell_type": "markdown",
   "metadata": {
    "id": "bY7s2D2lFoy1"
   },
   "source": [
    "**Note** - so we can think few listings/properties with same names have different hosts in different areas/neighbourhoods of a neighbourhood_group\n"
   ]
  },
  {
   "cell_type": "code",
   "execution_count": null,
   "metadata": {
    "colab": {
     "base_uri": "https://localhost:8080/"
    },
    "id": "YKyIBhK0HcQr",
    "outputId": "48285869-a525-4ad3-8b4f-00879f5e0741"
   },
   "outputs": [],
   "source": [
    "Airbnb_df[Airbnb_df['host_name']=='David']['listing_name'].nunique()\n",
    "\n",
    "# so here same host David operates different 402 listings/properties"
   ]
  },
  {
   "cell_type": "code",
   "execution_count": null,
   "metadata": {},
   "outputs": [],
   "source": [
    "Airbnb_df[Airbnb_df['host_name']=='David']['listing_name'].unique()"
   ]
  },
  {
   "cell_type": "code",
   "execution_count": null,
   "metadata": {
    "colab": {
     "base_uri": "https://localhost:8080/",
     "height": 313
    },
    "id": "RTJ6hMcTBvT_",
    "outputId": "c87e1b1e-8f89-4744-fa5e-e6aef2069087",
    "scrolled": true
   },
   "outputs": [],
   "source": [
    "Airbnb_df[Airbnb_df['listing_name']==Airbnb_df['host_name']].head()\n",
    "\n",
    "# there are few listings where the listing/property names and the host have same names"
   ]
  },
  {
   "cell_type": "code",
   "execution_count": null,
   "metadata": {},
   "outputs": [],
   "source": [
    "Airbnb_df[Airbnb_df['host_name']=='Sean']"
   ]
  },
  {
   "cell_type": "code",
   "execution_count": null,
   "metadata": {},
   "outputs": [],
   "source": [
    "Airbnb_df[(Airbnb_df['host_name']=='David')|(Airbnb_df['host_name']=='Sean')]"
   ]
  },
  {
   "cell_type": "markdown",
   "metadata": {
    "id": "XuaOWB5OPeli"
   },
   "source": [
    "---\n",
    "\n",
    "# **Describe the Dataset and removing outliers**"
   ]
  },
  {
   "cell_type": "code",
   "execution_count": null,
   "metadata": {
    "colab": {
     "base_uri": "https://localhost:8080/",
     "height": 320
    },
    "id": "p9bTT2RvKqvC",
    "outputId": "1edd517d-1339-47b7-cc63-c2dd4aae5a56"
   },
   "outputs": [],
   "source": [
    "# describe the DataFrame\n",
    "Airbnb_df.describe()"
   ]
  },
  {
   "cell_type": "markdown",
   "metadata": {
    "id": "zDqjo6fXQduX"
   },
   "source": [
    "**Note** - price column is very important so we have to find big outliers in important columns first."
   ]
  },
  {
   "cell_type": "code",
   "execution_count": null,
   "metadata": {
    "colab": {
     "base_uri": "https://localhost:8080/",
     "height": 449
    },
    "id": "Q7L1jdMLV5sW",
    "outputId": "ccedea0a-bda4-4c34-902d-e334ad239880"
   },
   "outputs": [],
   "source": [
    "sns.boxplot(x = Airbnb_df['price'])\n",
    "\n",
    "plt.show()"
   ]
  },
  {
   "cell_type": "markdown",
   "metadata": {
    "id": "Jq9ue0K3Zk_k"
   },
   "source": [
    "---\n",
    "\n",
    "### **Using IQR technique**"
   ]
  },
  {
   "cell_type": "code",
   "execution_count": null,
   "metadata": {
    "id": "unN_W2VrZbRV"
   },
   "outputs": [],
   "source": [
    "# writing a outlier function for removing outliers in important columns.\n",
    "def iqr_technique(DFcolumn):\n",
    "  Q1 = np.percentile(DFcolumn, 25)\n",
    "  Q3 = np.percentile(DFcolumn, 75)\n",
    "  IQR = Q3 - Q1\n",
    "  lower_range = Q1 - (1.5 * IQR)\n",
    "  upper_range = Q3 + (1.5 * IQR)                        # interquantile range\n",
    "\n",
    "  return lower_range,upper_range"
   ]
  },
  {
   "cell_type": "code",
   "execution_count": null,
   "metadata": {
    "scrolled": true
   },
   "outputs": [],
   "source": [
    "lower_bound,upper_bound = iqr_technique(Airbnb_df['price'])\n",
    "lower_bound"
   ]
  },
  {
   "cell_type": "code",
   "execution_count": null,
   "metadata": {},
   "outputs": [],
   "source": [
    "upper_bound"
   ]
  },
  {
   "cell_type": "code",
   "execution_count": null,
   "metadata": {
    "id": "h-mlFzXHd69y"
   },
   "outputs": [],
   "source": [
    "lower_bound,upper_bound = iqr_technique(Airbnb_df['price'])\n",
    "\n",
    "Airbnb_df = Airbnb_df[(Airbnb_df.price>lower_bound) & (Airbnb_df.price<upper_bound)]"
   ]
  },
  {
   "cell_type": "code",
   "execution_count": null,
   "metadata": {
    "colab": {
     "base_uri": "https://localhost:8080/",
     "height": 466
    },
    "id": "CUvxmWFWfgjP",
    "outputId": "09edfcd3-e70d-4000-f189-b8ba7e0efee6"
   },
   "outputs": [],
   "source": [
    "# so the outliers are removed from price column now check with boxplot and also check shape of new Dataframe!\n",
    "\n",
    "sns.boxplot(x = Airbnb_df['price'])\n",
    "print(Airbnb_df.shape)"
   ]
  },
  {
   "cell_type": "code",
   "execution_count": null,
   "metadata": {
    "colab": {
     "base_uri": "https://localhost:8080/"
    },
    "id": "sev0DI9OCf5E",
    "outputId": "8a3813cf-cb3c-4d01-b89e-fdebbc963c7e"
   },
   "outputs": [],
   "source": [
    "# so here outliers are removed, see the new max price\n",
    "print(Airbnb_df['price'].max())"
   ]
  },
  {
   "cell_type": "markdown",
   "metadata": {
    "id": "a4pYZVobcsy7"
   },
   "source": [
    "\n",
    "\n",
    "---\n",
    "\n",
    "# **Exploratory Data Analysis -- (EDA)**\n"
   ]
  },
  {
   "cell_type": "markdown",
   "metadata": {
    "id": "4QhMDZuwZz5i"
   },
   "source": [
    "\n",
    "\n",
    "   **Distribution Of Airbnb Bookings Price Range Using Histogram**"
   ]
  },
  {
   "cell_type": "code",
   "execution_count": null,
   "metadata": {
    "colab": {
     "base_uri": "https://localhost:8080/",
     "height": 516
    },
    "id": "-rBPoeP639_P",
    "outputId": "c9c4e3bc-1649-4983-957a-797c28688234"
   },
   "outputs": [],
   "source": [
    "# Create a figure with a custom size\n",
    "plt.figure(figsize=(12, 5))\n",
    "\n",
    "# Set the seaborn theme to darkgrid\n",
    "sns.set_theme(style='darkgrid')\n",
    "\n",
    "# Create a histogram of the 'price' column of the Airbnb_df dataframe\n",
    "# using sns distplot function and specifying the color as red\n",
    "sns.distplot(Airbnb_df['price'],color=('r'))\n",
    "\n",
    "# Add labels to the x-axis and y-axis\n",
    "plt.xlabel('Price', fontsize=14)\n",
    "plt.ylabel('Density', fontsize=14)\n",
    "\n",
    "# Add a title to the plot\n",
    "plt.title('Distribution of Airbnb Prices',fontsize=15)"
   ]
  },
  {
   "cell_type": "markdown",
   "metadata": {
    "id": "5F0BzScIYvgY"
   },
   "source": [
    "**observations -->**\n",
    "\n",
    "*   The range of prices being charged on Airbnb appears to be from **20 to 330 dollars** , with the majority of listings falling in the price range of **50 to 150 dollars.**\n",
    "\n",
    "*   The distribution of prices appears to have a peak in the **50 to 150 dollars range**, with a relatively lower density of listings in higher and lower price ranges.\n",
    "\n",
    "*   There may be fewer listings available at prices above **250 dollars**, as\n",
    "the density of listings drops significantly in this range.\n",
    "\n",
    "---\n",
    "\n",
    "\n"
   ]
  },
  {
   "cell_type": "markdown",
   "metadata": {
    "id": "jefQ_immasko"
   },
   "source": [
    "\n",
    "\n",
    "---\n",
    "\n",
    "\n",
    "   **Total Listing/Property count in Each Neighborhood Group using Count plot**"
   ]
  },
  {
   "cell_type": "code",
   "execution_count": null,
   "metadata": {
    "colab": {
     "base_uri": "https://localhost:8080/",
     "height": 206
    },
    "id": "0q6KozO60iDk",
    "outputId": "36858c6b-ba7a-46da-c5d4-29cc688f7358",
    "scrolled": true
   },
   "outputs": [],
   "source": [
    "# Count the number of listings in each neighborhood group and store the result in a Pandas series\n",
    "counts = Airbnb_df['neighbourhood_group'].value_counts()\n",
    "\n",
    "# Reset the index of the series so that the neighborhood groups become columns in the resulting dataframe\n",
    "Top_Neighborhood_group = counts.reset_index()\n",
    "\n",
    "# Rename the columns of the dataframe to be more descriptive\n",
    "Top_Neighborhood_group.columns = ['Neighborhood_Groups', 'Listing_Counts']\n",
    "\n",
    "# display the resulting DataFrame\n",
    "Top_Neighborhood_group\n"
   ]
  },
  {
   "cell_type": "code",
   "execution_count": null,
   "metadata": {
    "colab": {
     "base_uri": "https://localhost:8080/",
     "height": 731
    },
    "id": "eWND72bu_-El",
    "outputId": "8957cf62-14c8-4350-87f6-d2a876d01cf3"
   },
   "outputs": [],
   "source": [
    "# Set the figure size\n",
    "plt.figure(figsize=(12, 8))\n",
    "\n",
    "# Create a countplot of the neighbourhood group data\n",
    "sns.countplot(data=Airbnb_df, x='neighbourhood_group')\n",
    "\n",
    "# Set the title of the plot\n",
    "plt.title('Neighbourhood_group Listing Counts in NYC', fontsize=15)\n",
    "\n",
    "# Set the x-axis label\n",
    "plt.xlabel('Neighbourhood_Group', fontsize=14)\n",
    "\n",
    "# Set the y-axis label\n",
    "plt.ylabel('Total Listings Counts', fontsize=14)\n",
    "\n",
    "# Show the plot\n",
    "plt.show()"
   ]
  },
  {
   "cell_type": "markdown",
   "metadata": {
    "id": "QFi8ZQqDc0PB"
   },
   "source": [
    "\n",
    "**Observations -->**\n",
    "\n",
    "*   Manhattan and Brooklyn have the highest number of listings on Airbnb, with over 19,000 listings each.\n",
    "\n",
    "*   Queens and the Bronx have significantly fewer listings compared to Manhattan and Brooklyn, with 5,567 and 1,070 listings, respectively\n",
    "\n",
    "*   Staten Island has the fewest number of listings, with only 365.\n",
    "\n",
    "*   The distribution of listings across the different neighborhood groups is skewed, with a concentration of listings in Manhattan and Brooklyn.\n",
    "\n",
    "*   Despite being larger in size, the neighborhoods in Queens, the Bronx, and Staten Island have fewer listings on Airbnb compared to Manhattan, which has a smaller geographical area.\n",
    "\n",
    "*   This could suggest that the demand for Airbnb rentals is higher in Manhattan compared to the other neighborhoods, leading to a higher concentration of listings in this area.\n",
    "\n",
    "*   Alternatively, it could be that the supply of listings is higher in Manhattan due to a higher number of homeowners or property owners in this neighborhood who are willing to list their properties on Airbnb.\n",
    "\n",
    "\n",
    "\n",
    "\n",
    "\n",
    "\n",
    "---\n",
    "\n",
    "\n"
   ]
  },
  {
   "cell_type": "markdown",
   "metadata": {
    "id": "2zMumMkyeQLm"
   },
   "source": [
    "\n",
    "\n",
    "---\n",
    "\n",
    "**Average Price Of Each Neighborhood Group using Point Plot**"
   ]
  },
  {
   "cell_type": "code",
   "execution_count": null,
   "metadata": {
    "colab": {
     "base_uri": "https://localhost:8080/",
     "height": 206
    },
    "id": "E7Ut3YgxvSP5",
    "outputId": "8f46e4dd-7c5e-4b02-f6ce-1f296f83a9f7"
   },
   "outputs": [],
   "source": [
    "# Group the Airbnb dataset by neighborhood group and calculate the mean of each group\n",
    "grouped = Airbnb_df.groupby(\"neighbourhood_group\").mean()\n",
    "\n",
    "# Reset the index of the grouped dataframe so that the neighborhood group becomes a column\n",
    "neighbourhood_group_avg_price = grouped.reset_index()\n",
    "\n",
    "# Rename the \"price\" column to \"avg_price\"\n",
    "neighbourhood_group_avg_price = round(neighbourhood_group_avg_price.rename(columns={\"price\": \"avg_price\"}),2)\n",
    "\n",
    "# Select only the \"neighbourhood_group\" and \"avg_price\" columns\n",
    "neighbourhood_group_avg_price[['neighbourhood_group', 'avg_price']].head()"
   ]
  },
  {
   "cell_type": "code",
   "execution_count": null,
   "metadata": {
    "colab": {
     "base_uri": "https://localhost:8080/",
     "height": 500
    },
    "id": "X5Yo_6NW2LAq",
    "outputId": "7e58a10c-ddfe-4160-d9f2-9929b233c15b"
   },
   "outputs": [],
   "source": [
    "#import mean function from the statistics module\n",
    "from statistics import mean\n",
    "\n",
    "# Create the point plot\n",
    "sns.pointplot(x = 'neighbourhood_group', y='price', data=Airbnb_df, estimator = np.mean)\n",
    "\n",
    "# Add axis labels and a title\n",
    "plt.xlabel('Neighbourhood Group',fontsize=14)\n",
    "plt.ylabel('Average Price',fontsize=14)\n",
    "plt.title('Average Price by Neighbourhood Group',fontsize=15)"
   ]
  },
  {
   "cell_type": "markdown",
   "metadata": {
    "id": "IYkh36zT3BmX"
   },
   "source": [
    "**Observations -->**\n",
    "\n",
    "*   The average price of a listing in New York City varies significantly across different neighborhoods, with **Manhattan having the highest 146 dollars/day  average price** and **the Bronx having the lowest near 77 dollars/day.**\n",
    "\n",
    "*   In second graph price distribution is very high in Manhattan and Brooklyn.\n",
    "but Manhattan have more varity in price range, you can see in second violinplot.\n",
    "\n",
    "*   The average price increases as you move from the outer boroughs (Bronx, Brooklyn, Queens, and Staten Island) towards the center of the city (Manhattan).\n",
    "\n",
    "*   The average price in queens and Staten Island is relatively similar, despite being in different parts of the city.\n",
    "\n",
    "*   The data suggests that the overall cost of living in New York City is higher in the center of the city (Manhattan) compared to the outer boroughs. This is likely due to the fact that Manhattan is the most densely populated and commercially important borough, and therefore has higher demand for housing in the centrally located neighborhoods"
   ]
  },
  {
   "cell_type": "markdown",
   "metadata": {
    "id": "3tIoOaAz5g92"
   },
   "source": [
    "---\n",
    "\n",
    "**Price Distribution Of Each Neighborhood Group using Violin Plot**"
   ]
  },
  {
   "cell_type": "code",
   "execution_count": null,
   "metadata": {
    "colab": {
     "base_uri": "https://localhost:8080/",
     "height": 458
    },
    "id": "2QOlHzg0dO6v",
    "outputId": "2ad482ae-dca7-44fb-f34f-a13c5a184aef",
    "scrolled": true
   },
   "outputs": [],
   "source": [
    "# Creating the violin plot for price distribution in each Neighbourhood_groups\n",
    "ax= sns.violinplot(x='neighbourhood_group',y='price',data= Airbnb_df)"
   ]
  },
  {
   "cell_type": "markdown",
   "metadata": {
    "id": "w_jd9gcykpv7"
   },
   "source": [
    "**Observations -->**\n",
    "\n",
    "*   price distribution is very high in Manhattan and Brooklyn. but Manhattan have more Diversity in price range, you can see in violin plot.\n",
    "\n",
    "*   Queens and Bronx have same price distribution but in Queens area more distribution in 50$ to 100$ but diversity in price is not like Manhattan and Brooklyn.\n",
    "\n",
    "---\n",
    "\n"
   ]
  },
  {
   "cell_type": "code",
   "execution_count": null,
   "metadata": {},
   "outputs": [],
   "source": [
    "ax= sns.barplot(x='neighbourhood_group',y='price',data= Airbnb_df)"
   ]
  },
  {
   "cell_type": "markdown",
   "metadata": {
    "id": "fC49T-99n99v"
   },
   "source": [
    "\n",
    "\n",
    "---\n",
    "**Top Neighborhoods by Listing/property using Bar plot**"
   ]
  },
  {
   "cell_type": "code",
   "execution_count": null,
   "metadata": {
    "colab": {
     "base_uri": "https://localhost:8080/",
     "height": 363
    },
    "id": "Fyf_L-TazFoS",
    "outputId": "41fe8d72-0860-4440-8033-d67ffac0c013",
    "scrolled": true
   },
   "outputs": [],
   "source": [
    "# create a new DataFrame that displays the top 10 neighborhoods in the Airbnb NYC dataset based on the number of listings in each neighborhood\n",
    "Top_Neighborhoods = Airbnb_df['neighbourhood'].value_counts()[:10].reset_index()\n",
    "\n",
    "# rename the columns of the resulting DataFrame to 'Top_Neighborhoods' and 'Listing_Counts'\n",
    "Top_Neighborhoods.columns = ['Top_Neighborhoods', 'Listing_Counts']\n",
    "\n",
    "# display the resulting DataFrame\n",
    "Top_Neighborhoods"
   ]
  },
  {
   "cell_type": "code",
   "execution_count": null,
   "metadata": {},
   "outputs": [],
   "source": [
    "type(Top_Neighborhoods)"
   ]
  },
  {
   "cell_type": "code",
   "execution_count": null,
   "metadata": {
    "colab": {
     "base_uri": "https://localhost:8080/",
     "height": 674
    },
    "id": "N6ILErsSHgdN",
    "outputId": "e46758fe-d568-422d-bd65-35f609be6a7b",
    "scrolled": true
   },
   "outputs": [],
   "source": [
    "# Get the top 10 neighborhoods by listing count\n",
    "top_10_neigbourhoods = Airbnb_df['neighbourhood'].value_counts().nlargest(10)\n",
    "\n",
    "# Create a list of colors to use for the bars\n",
    "colors = ['c', 'g', 'olive', 'y', 'm', 'orange', '#C0C0C0', '#800000', '#008000', '#000080']\n",
    "\n",
    "# Create a bar plot of the top 10 neighborhoods using the specified colors\n",
    "top_10_neigbourhoods.plot(kind='bar', figsize=(15, 6), color = colors)\n",
    "\n",
    "# Set the x-axis label\n",
    "plt.xlabel('Neighbourhood', fontsize=14)\n",
    "\n",
    "# Set the y-axis label\n",
    "plt.ylabel('Total Listing Counts', fontsize=14)\n",
    "\n",
    "# Set the title of the plot\n",
    "plt.title('Listings by Top Neighborhoods in NYC', fontsize=15)\n"
   ]
  },
  {
   "cell_type": "code",
   "execution_count": null,
   "metadata": {},
   "outputs": [],
   "source": [
    "type(top_10_neigbourhoods)"
   ]
  },
  {
   "cell_type": "markdown",
   "metadata": {
    "id": "xmyr81yypxk3"
   },
   "source": [
    "**Observations -->**\n",
    "\n",
    "*   The top neighborhoods in New York City in terms of listing counts are Williamsburg, Bedford-Stuyvesant, Harlem, Bushwick, and the Upper West Side.\n",
    "\n",
    "*   The top neighborhoods are primarily located in Brooklyn and Manhattan. This may be due to the fact that these boroughs have a higher overall population and a higher demand for housing.\n",
    "\n",
    "*   The number of listings alone may not be indicative of the overall demand for housing in a particular neighborhood, as other factors such as the cost of living and the availability of housing may also play a role.\n",
    "\n",
    "\n",
    "\n",
    "\n",
    "\n",
    "\n",
    "\n",
    "---\n",
    "\n"
   ]
  },
  {
   "cell_type": "markdown",
   "metadata": {
    "id": "bS09r91kt1_L"
   },
   "source": [
    "\n",
    "\n",
    "---\n",
    "\n",
    "**Top Hosts With More Listing/Property using Bar chart**"
   ]
  },
  {
   "cell_type": "code",
   "execution_count": null,
   "metadata": {
    "colab": {
     "base_uri": "https://localhost:8080/",
     "height": 363
    },
    "id": "PJBlXfo8mk9p",
    "outputId": "c43f144e-d549-462d-ba4a-f67cde5962c2"
   },
   "outputs": [],
   "source": [
    "# create a new DataFrame that displays the top 10 hosts in the Airbnb NYC dataset based on the number of listings each host has\n",
    "top_10_hosts = Airbnb_df['host_name'].value_counts()[:10].reset_index()\n",
    "\n",
    "# rename the columns of the resulting DataFrame to 'host_name' and 'Total_listings'\n",
    "top_10_hosts.columns = ['host_name', 'Total_listings']\n",
    "\n",
    "# display the resulting DataFrame\n",
    "top_10_hosts"
   ]
  },
  {
   "cell_type": "code",
   "execution_count": null,
   "metadata": {
    "colab": {
     "base_uri": "https://localhost:8080/",
     "height": 599
    },
    "id": "_4rqAHQR_9iW",
    "outputId": "9fecf4fb-27e9-4810-f579-3728f6930392"
   },
   "outputs": [],
   "source": [
    "# Get the top 10 hosts by listing count\n",
    "top_hosts = Airbnb_df['host_name'].value_counts()[:10]\n",
    "\n",
    "# Create a bar plot of the top 10 hosts\n",
    "top_hosts.plot(kind='bar', figsize=(18, 7),color='peru')\n",
    "\n",
    "# Set the x-axis label\n",
    "plt.xlabel('top10_hosts', fontsize=14)\n",
    "\n",
    "# Set the y-axis label\n",
    "plt.ylabel('total_NYC_listings', fontsize=14)\n",
    "\n",
    "# Set the title of the plot\n",
    "plt.title('top 10 hosts on the basis of no of listings in entire NYC!', fontsize=15)\n"
   ]
  },
  {
   "cell_type": "markdown",
   "metadata": {
    "id": "aqeC6H2tv9vl"
   },
   "source": [
    "**Observations -->**\n",
    "\n",
    "*   The top three hosts in terms of total listings are Michael, David, and John, who have 383, 368, and 276 listings, respectively.\n",
    "\n",
    "*   There is a relatively large gap between the top two hosts and the rest of the hosts. For example, john has 276 listings, which is significantly fewer than Michael's 383 listings.\n",
    "\n",
    "*   In this top10 list Mike has 184 listings, which is significantly fewer than\n",
    "Michael's 383 listings. This could indicate that there is a lot of variation in the success of different hosts on Airbnb.\n",
    "\n",
    "*   There are relatively few hosts with a large number of listings. This could indicate that the Airbnb market is relatively competitive, with a small number of hosts dominating a large portion of the market.\n",
    "\n",
    "---"
   ]
  },
  {
   "cell_type": "markdown",
   "metadata": {
    "id": "wIdJWHC6xi-I"
   },
   "source": [
    "\n",
    "\n",
    "---\n",
    "\n",
    "**Number Of Active Hosts Per Location Using Line Chart**"
   ]
  },
  {
   "cell_type": "code",
   "execution_count": null,
   "metadata": {
    "colab": {
     "base_uri": "https://localhost:8080/",
     "height": 206
    },
    "id": "h2Xi-pYyyKKK",
    "outputId": "55842344-b154-465b-d2d6-1055d4105f57",
    "scrolled": true
   },
   "outputs": [],
   "source": [
    "# create a new DataFrame that displays the number of hosts in each neighborhood group in the Airbnb NYC dataset\n",
    "hosts_per_location = Airbnb_df.groupby('neighbourhood_group')['listing_id'].count().reset_index()\n",
    "\n",
    "# rename the columns of the resulting DataFrame to 'Neighbourhood_Groups' and 'Host_counts'\n",
    "hosts_per_location.columns = ['Neighbourhood_Groups', 'Host_counts']\n",
    "\n",
    "# display the resulting DataFrame\n",
    "hosts_per_location"
   ]
  },
  {
   "cell_type": "code",
   "execution_count": null,
   "metadata": {},
   "outputs": [],
   "source": [
    "print(hosts_per_location)"
   ]
  },
  {
   "cell_type": "code",
   "execution_count": null,
   "metadata": {
    "colab": {
     "base_uri": "https://localhost:8080/",
     "height": 499
    },
    "id": "6_RBJvgZCI-N",
    "outputId": "61a70308-c711-4a09-9479-959813cf15f4"
   },
   "outputs": [],
   "source": [
    "# Group the data by neighbourhood_group and count the number of listings for each group\n",
    "hosts_per_location = Airbnb_df.groupby('neighbourhood_group')['listing_id'].count()\n",
    "\n",
    "# Get the list of neighbourhood_group names\n",
    "locations = hosts_per_location.index\n",
    "\n",
    "# Get the list of host counts for each neighbourhood_group\n",
    "host_counts = hosts_per_location.values\n",
    "\n",
    "# Set the figure size\n",
    "plt.figure(figsize=(12, 5))\n",
    "\n",
    "# Create the line chart with some experiments using marker function\n",
    "plt.plot(locations, host_counts, marker='o', ms=12, mew=4, mec='r')\n",
    "\n",
    "# Add a title and labels to the x-axis and y-axis\n",
    "plt.title('Number of Active Hosts per Location', fontsize='15')\n",
    "plt.xlabel('Location', fontsize='14')\n",
    "plt.ylabel('Number of Active Hosts', fontsize='14')\n",
    "\n",
    "# Show the plot\n",
    "plt.show()"
   ]
  },
  {
   "cell_type": "code",
   "execution_count": null,
   "metadata": {},
   "outputs": [],
   "source": [
    "type(hosts_per_location)"
   ]
  },
  {
   "cell_type": "markdown",
   "metadata": {
    "id": "z2np9-D0zt7w"
   },
   "source": [
    "**Observations -->**\n",
    "\n",
    "*   Manhattan has the largest number of hosts with 19501,Brooklyn has the second largest number of hosts with 19415.\n",
    "\n",
    "* After that Queens with 5567 and the Bronx with 1070. while Staten Island has the fewest with 365.\n",
    "\n",
    "*   Brooklyn and Manhattan have the largest number of hosts, with more than double the number of hosts in Queens and more than 18 times the number of hosts in the Bronx.\n",
    "\n",
    "---\n",
    "\n"
   ]
  },
  {
   "cell_type": "markdown",
   "metadata": {
    "id": "XMByzOXd4EG-"
   },
   "source": [
    "\n",
    "\n",
    "---\n",
    "**Total Counts Of Each Room Type**\n"
   ]
  },
  {
   "cell_type": "code",
   "execution_count": null,
   "metadata": {
    "colab": {
     "base_uri": "https://localhost:8080/",
     "height": 143
    },
    "id": "oWsHXmCqyhjO",
    "outputId": "d3897d8f-0e1a-4345-fc8c-b83894670849"
   },
   "outputs": [],
   "source": [
    "# create a new DataFrame that displays the number of listings of each room type in the Airbnb NYC dataset\n",
    "top_room_type = Airbnb_df['room_type'].value_counts().reset_index()\n",
    "\n",
    "# rename the columns of the resulting DataFrame to 'Room_Type' and 'Total_counts'\n",
    "top_room_type.columns = ['Room_Type', 'Total_counts']\n",
    "\n",
    "# display the resulting DataFrame\n",
    "top_room_type\n",
    "\n"
   ]
  },
  {
   "cell_type": "code",
   "execution_count": null,
   "metadata": {
    "colab": {
     "base_uri": "https://localhost:8080/",
     "height": 499
    },
    "id": "0euKrr8Y-ECw",
    "outputId": "bec99d82-21e7-4005-84ce-74b8aa25253e"
   },
   "outputs": [],
   "source": [
    "# Set the figure size\n",
    "plt.figure(figsize=(10, 6))\n",
    "\n",
    "# Get the room type counts\n",
    "room_type_counts = Airbnb_df['room_type'].value_counts()\n",
    "\n",
    "# Set the labels and sizes for the pie chart\n",
    "labels = room_type_counts.index\n",
    "sizes = room_type_counts.values\n",
    "\n",
    "# Create the pie chart\n",
    "plt.pie(sizes, labels=labels, autopct='%1.1f%%')\n",
    "\n",
    "# Add a legend to the chart\n",
    "plt.legend(title='Room Type', bbox_to_anchor=(0.8, 0, 0.5, 1), fontsize='10')\n",
    "\n",
    "# Show the plot\n",
    "plt.show()\n"
   ]
  },
  {
   "cell_type": "markdown",
   "metadata": {
    "id": "pl0X0xr05SL5"
   },
   "source": [
    "**Observations -->**\n",
    "\n",
    "*  The majority of listings on Airbnb are for entire homes or apartments, with 22784 listings, followed by private rooms with 21996 listings, and shared rooms with 1138 listings.\n",
    "\n",
    "*  There is a significant difference in the number of listings for each room type. For example, there are almost 20 times as many listings for entire homes or apartments as there are for shared rooms.\n",
    "\n",
    "*  The data suggests that travelers using Airbnb have a wide range of accommodation options to choose from, including private rooms and entire homes or apartments\n",
    "\n",
    "---\n",
    "\n"
   ]
  },
  {
   "cell_type": "markdown",
   "metadata": {
    "id": "hmVV4XY_7Gf-"
   },
   "source": [
    "\n",
    "\n",
    "---\n",
    "**Stay Requirement counts by Minimum Nights using Bar chart**\n"
   ]
  },
  {
   "cell_type": "code",
   "execution_count": null,
   "metadata": {
    "scrolled": true
   },
   "outputs": [],
   "source": [
    "min_nights_count = Airbnb_df.groupby('minimum_nights').size().reset_index(name = 'count')\n",
    "min_nights_count"
   ]
  },
  {
   "cell_type": "code",
   "execution_count": null,
   "metadata": {},
   "outputs": [],
   "source": [
    "min_nights_count = min_nights_count.sort_values('count', ascending=False)\n",
    "min_nights_count "
   ]
  },
  {
   "cell_type": "code",
   "execution_count": null,
   "metadata": {
    "colab": {
     "base_uri": "https://localhost:8080/",
     "height": 519
    },
    "id": "Ah1dQOHFr9w2",
    "outputId": "c245c894-dc2f-4805-8105-5e703f433049"
   },
   "outputs": [],
   "source": [
    "# Group the DataFrame by the minimum_nights column and count the number of rows in each group\n",
    "min_nights_count = Airbnb_df.groupby('minimum_nights').size().reset_index(name = 'count')\n",
    "\n",
    "# Sort the resulting DataFrame in descending order by the count column\n",
    "min_nights_count = min_nights_count.sort_values('count', ascending=False)\n",
    "\n",
    "# Select the top 10 rows\n",
    "min_nights_count = min_nights_count.head(10)\n",
    "\n",
    "# Reset the index\n",
    "min_nights_count = min_nights_count.reset_index(drop=True)\n",
    "\n",
    "# Display the resulting DataFrame\n",
    "min_nights_count"
   ]
  },
  {
   "cell_type": "code",
   "execution_count": null,
   "metadata": {
    "colab": {
     "base_uri": "https://localhost:8080/",
     "height": 422
    },
    "id": "v3-KEGkOWMBD",
    "outputId": "223525eb-702d-4c69-909b-bc05e8ddb467"
   },
   "outputs": [],
   "source": [
    "# Extract the minimum_nights and count columns from the DataFrame\n",
    "minimum_nights = min_nights_count['minimum_nights']\n",
    "Count= min_nights_count['count']\n",
    "\n",
    "# Set the figure size\n",
    "plt.figure(figsize=(12, 4))\n",
    "\n",
    "# Create the bar plot\n",
    "#min_nights_count.plot(kind='bar')\n",
    "plt.bar(minimum_nights,Count)\n",
    "\n",
    "# Add axis labels and a title\n",
    "plt.xlabel('Minimum Nights', fontsize='14')\n",
    "plt.ylabel('Count', fontsize='14')\n",
    "plt.title('Stay Requirement by Minimum Nights', fontsize='15')\n",
    "\n",
    "# Show the plot\n",
    "plt.show()"
   ]
  },
  {
   "cell_type": "markdown",
   "metadata": {
    "id": "OIgrGtbI9Uf2"
   },
   "source": [
    "**Observations -->**\n",
    "\n",
    "*   The majority of listings on Airbnb have a minimum stay requirement of 1 or 2 nights, with 12067 and 11080 listings, respectively.\n",
    "\n",
    "*   The number of listings with a minimum stay requirement decreases as the length of stay increases, with 7375 listings requiring a minimum stay of 3 nights, and so on.\n",
    "\n",
    "*   There are relatively few listings with a minimum stay requirement of 30 nights or more, with 3489 and 189 listings, respectively.\n",
    "\n",
    "---\n",
    "\n"
   ]
  },
  {
   "cell_type": "markdown",
   "metadata": {
    "id": "7m7GVN8_-23X"
   },
   "source": [
    "\n",
    "\n",
    "---\n",
    "**Total Reviews by Each Neighborhood Group using Pie Chart**\n"
   ]
  },
  {
   "cell_type": "code",
   "execution_count": null,
   "metadata": {
    "colab": {
     "base_uri": "https://localhost:8080/",
     "height": 430
    },
    "id": "uAMJJcbjJWEU",
    "outputId": "53360ee2-b7ac-4a8d-b054-418991ff9f4f"
   },
   "outputs": [],
   "source": [
    "# Group the data by neighborhood group and calculate the total number of reviews\n",
    "reviews_by_neighbourhood_group = Airbnb_df.groupby(\"neighbourhood_group\")[\"total_reviews\"].sum()\n",
    "\n",
    "# Create a pie chart\n",
    "plt.pie(reviews_by_neighbourhood_group, labels=reviews_by_neighbourhood_group.index, autopct='%1.1f%%')\n",
    "plt.title(\"Number of Reviews by Neighborhood Group in New York City\", fontsize='15')\n",
    "\n",
    "# Display the chart\n",
    "plt.show()"
   ]
  },
  {
   "cell_type": "markdown",
   "metadata": {
    "id": "2oFtTaQo_9ZD"
   },
   "source": [
    "**Observations -->**\n",
    "\n",
    "*   Brooklyn has the largest share of total reviews on Airbnb, with 43.3%, followed by Manhattan with 38.9%.\n",
    "\n",
    "* Queens has the third largest share of total reviews, with 14.2%, followed by the Bronx with 2.6% and Staten Island with 1.0%.\n",
    "\n",
    "*   The data suggests that Airbnb is more popular in Brooklyn and Manhattan compared to the other neighborhood groups.\n",
    "\n",
    "*   Despite having fewer listings, Brooklyn has more reviews on Airbnb compared to Manhattan. This could indicate that Airbnb users in Brooklyn are more likely to leave reviews, or that the listings in Brooklyn are more popular or successful in generating positive reviews. It is worth noting that there could be a number of other factors that could contribute to this difference in reviews, such as the quality of the listings or the characteristics of the travelers who use Airbnb in these areas.\n",
    "\n",
    "\n",
    "\n",
    "\n",
    "---\n"
   ]
  },
  {
   "cell_type": "markdown",
   "metadata": {
    "id": "YUZVejZgI2Lh"
   },
   "source": [
    "\n",
    "\n",
    "---\n",
    "**Number of Max. Reviews by Each Neighborhood Group using Pie Chart**\n"
   ]
  },
  {
   "cell_type": "code",
   "execution_count": null,
   "metadata": {
    "colab": {
     "base_uri": "https://localhost:8080/",
     "height": 430
    },
    "id": "x8uH_JnmPEa2",
    "outputId": "da107ff9-ee8c-4274-d059-dc10f3d60976"
   },
   "outputs": [],
   "source": [
    "# Group the Airbnb data by neighbourhood group\n",
    "reviews_by_neighbourhood_group = Airbnb_df.groupby(\"neighbourhood_group\")[\"total_reviews\"].max()\n",
    "\n",
    "# Create a pie chart to visualize the distribution of maximum number of reviews among different neighbourhood groups\n",
    "plt.pie(reviews_by_neighbourhood_group, labels=reviews_by_neighbourhood_group.index, autopct='%1.1f%%')\n",
    "\n",
    "# Add a title to the chart\n",
    "plt.title(\"Number of maximum Reviews by Neighborhood Group in NYC\", fontsize='15')\n",
    "\n",
    "# Display the chart\n",
    "plt.show()\n",
    "\n"
   ]
  },
  {
   "cell_type": "markdown",
   "metadata": {
    "id": "UrmCbY48LVSK"
   },
   "source": [
    "**Observations -->**\n",
    "\n",
    "*   Queens and Manhattan seem to be the most popular neighborhoods for reviewing, as they have both high number of maximum reviews.\n",
    "\n",
    "*   Queens has the highest percentage of reviews at 26.5%, but it has the third highest number of listings, behind Manhattan and Brooklyn. This suggests that Queens may be a particularly popular destination for tourists or visitors, even though it has fewer listings compared to Manhattan and Brooklyn.\n",
    "\n",
    "*   Manhattan and Brooklyn also have a high percentage of reviews, at 25.5% & 20.5%. This indicates that it is a popular destination for tourists or visitors as well. (number of listings higher than queens)\n",
    "\n",
    "*   Overall, this data suggests that Queens, Manhattan, and Brooklyn are the most popular neighborhoods for tourists or visitors, based on the high number of reviews they receive.\n",
    "\n",
    "\n",
    "\n",
    "\n",
    "\n",
    "\n",
    "\n",
    "---\n",
    "\n"
   ]
  },
  {
   "cell_type": "markdown",
   "metadata": {
    "id": "oup2CY4DaO9R"
   },
   "source": [
    "\n",
    "\n",
    "---\n",
    "**Most reviewed room type per month in neighbourhood groups**\n"
   ]
  },
  {
   "cell_type": "code",
   "execution_count": null,
   "metadata": {
    "colab": {
     "base_uri": "https://localhost:8080/",
     "height": 745
    },
    "id": "XshNFiNkVd2P",
    "outputId": "5f95fdb3-07b1-46e8-a798-493c59e4042a"
   },
   "outputs": [],
   "source": [
    "# create a figure with a default size of (10, 8)\n",
    "f, ax = plt.subplots(figsize=(10, 8))\n",
    "\n",
    "# create a stripplot that displays the number of reviews per month for each room type in the Airbnb NYC dataset\n",
    "ax = sns.stripplot(x='room_type', y='reviews_per_month', hue='neighbourhood_group', dodge=True, data=Airbnb_df, palette='Set1')\n",
    "\n",
    "# set the title of the plot\n",
    "ax.set_title('Most Reviewed room_types in each Neighbourhood Groups', fontsize='14')\n",
    "\n"
   ]
  },
  {
   "cell_type": "markdown",
   "metadata": {
    "id": "SE28ogLbbza3"
   },
   "source": [
    "**Observations -->**\n",
    "\n",
    "*   We can see that Private room recieved the most no of reviews/month where Manhattan had the highest reviews received for Private rooms with more than 50 reviews/month, followed by Manhattan in the chase.\n",
    "\n",
    "*   Manhattan & Queens got the most no of reviews for Entire home/apt room type.\n",
    "\n",
    "*   There were less reviews recieved from shared rooms as compared to other room types and it was from Staten Island followed by Bronx.\n",
    "\n",
    "---\n",
    "\n"
   ]
  },
  {
   "cell_type": "markdown",
   "metadata": {
    "id": "WhMlYraC8HWX"
   },
   "source": [
    "**Count Of Each Room Types In Entire NYC Using Multiple Bar Plot**"
   ]
  },
  {
   "cell_type": "code",
   "execution_count": null,
   "metadata": {
    "colab": {
     "base_uri": "https://localhost:8080/",
     "height": 532
    },
    "id": "93YIK8gsSkfa",
    "outputId": "43fe0a76-b750-43aa-d0a9-d879534ff23e"
   },
   "outputs": [],
   "source": [
    "# Now analysis Room types count in Neighbourhood groups in NYC\n",
    "\n",
    "# Set the size of the plot\n",
    "plt.rcParams['figure.figsize'] = (8, 5)\n",
    "\n",
    "# Create a countplot using seaborn\n",
    "ax = sns.countplot(y='room_type', hue='neighbourhood_group', data=Airbnb_df, palette='bright')\n",
    "\n",
    "# Calculate the total number of room_type values\n",
    "total = len(Airbnb_df['room_type'])\n",
    "\n",
    "# Add a title to the plot\n",
    "plt.title('count of each room types in entire NYC', fontsize='15')\n",
    "\n",
    "# Add a label to the x-axis\n",
    "plt.xlabel('Room counts', fontsize='14')\n",
    "\n",
    "# Rotate the x-tick labels\n",
    "plt.xticks(rotation=90)\n",
    "\n",
    "# Add a label to the y-axis\n",
    "plt.ylabel('Rooms', fontsize='14')\n",
    "\n",
    "# Display the plot\n",
    "plt.show()\n",
    "\n"
   ]
  },
  {
   "cell_type": "markdown",
   "metadata": {
    "id": "oyuzI5fHe7n5"
   },
   "source": [
    "**Observations -->**\n",
    "\n",
    "* Manhattan has more listed properties with Entire home/apt around 24.6% of total listed properties followed by Brooklyn with around 19.5%.\n",
    "\n",
    "*   Private rooms are more in Brooklyn as in 21.9% of the total listed properties followed by Manhattan with 16.9% of them. While 7.3% of private rooms are from Queens.\n",
    "\n",
    "*   Very few of the total listed have shared rooms listed on Airbnb where there's negligible or almost very rare shared rooms in Staten Island and Bronx.\n",
    "\n",
    "*   We can infer that Brooklyn,Queens,Bronx has more private room types while Manhattan which has the highest no of listings in entire NYC has more Entire home/apt room types.\n",
    "\n",
    "\n",
    "---\n",
    "\n"
   ]
  },
  {
   "cell_type": "markdown",
   "metadata": {
    "id": "me2l5FuAD9ZG"
   },
   "source": [
    "\n",
    "\n",
    "---\n",
    "**Correlation Heatmap Visualization**\n",
    "\n",
    "\n"
   ]
  },
  {
   "cell_type": "code",
   "execution_count": null,
   "metadata": {
    "colab": {
     "base_uri": "https://localhost:8080/",
     "height": 383
    },
    "id": "KSVKNgGkEfN9",
    "outputId": "74e2757c-dcc3-4fb7-a844-67f43ef4e2ec"
   },
   "outputs": [],
   "source": [
    "# Calculate pairwise correlations between columns\n",
    "corr = Airbnb_df.corr()\n",
    "\n",
    "# Display the correlation between columns\n",
    "corr"
   ]
  },
  {
   "cell_type": "code",
   "execution_count": null,
   "metadata": {
    "colab": {
     "base_uri": "https://localhost:8080/",
     "height": 667
    },
    "id": "cGNGkGHeFqU7",
    "outputId": "c1ffb615-fb9f-414b-ab7b-38ac06ad35b0"
   },
   "outputs": [],
   "source": [
    "# Set the figure size\n",
    "plt.figure(figsize=(12,6))\n",
    "\n",
    "# Visualize correlations as a heatmap\n",
    "sns.heatmap(corr, cmap='BuPu',annot=True)\n",
    "\n",
    "# Display heatmap\n",
    "plt.show()"
   ]
  },
  {
   "cell_type": "markdown",
   "metadata": {
    "id": "Gd_X2Kq_I33k"
   },
   "source": [
    "**Observations -->**\n",
    "\n",
    "*   There is a moderate positive correlation (0.58) between the host_id and id columns, which suggests that hosts with more listings are more likely to have unique host IDs.\n",
    "\n",
    "*   There is a weak positive correlation (0.17) between the price column and the calculated_host_listings_count column, which suggests that hosts with more listings tend to charge higher prices for their listings.\n",
    "\n",
    "*   There is a moderate positive correlation (0.23) between the calculated_host_listings_count column and the availability_365 column, which suggests that hosts with more listings tend to have more days of availability in the next 365 days.\n",
    "\n",
    "*   There is a strong positive correlation (0.58) between the number_of_reviews column and the reviews_per_month column, which suggests that listings with more total reviews tend to have more reviews per month.\n",
    "\n",
    "\n",
    "\n",
    "---\n",
    "\n"
   ]
  },
  {
   "cell_type": "markdown",
   "metadata": {
    "id": "2EcIx_-9JhJ1"
   },
   "source": [
    "\n",
    "\n",
    "---\n",
    "\n",
    "**Pair Plot Visualization**"
   ]
  },
  {
   "cell_type": "code",
   "execution_count": null,
   "metadata": {
    "colab": {
     "base_uri": "https://localhost:8080/",
     "height": 1000
    },
    "id": "aHizt2VnJtVe",
    "outputId": "5166af72-330d-48d5-f92f-7403a4272e67"
   },
   "outputs": [],
   "source": [
    "# create a pairplot using the seaborn library to visualize the relationships between different variables in the Airbnb NYC dataset\n",
    "sns.pairplot(Airbnb_df)\n",
    "\n",
    "# show the plot\n",
    "plt.show()\n",
    "\n"
   ]
  },
  {
   "cell_type": "markdown",
   "metadata": {
    "id": "BsqpzLppLJiK"
   },
   "source": [
    "*   A pair plot consists of multiple scatterplots arranged in a grid, with each\n",
    "scatterplot showing the relationship between two variables\n",
    "\n",
    "*   It can be used to visualize relationships between multiple variables and to identify patterns in the data.\n",
    "\n",
    "---"
   ]
  },
  {
   "cell_type": "markdown",
   "metadata": {
    "id": "038Vki08k9GH"
   },
   "source": [
    "**Calculate summary statistics for prices by Room Type**"
   ]
  },
  {
   "cell_type": "code",
   "execution_count": 3,
   "metadata": {
    "colab": {
     "base_uri": "https://localhost:8080/"
    },
    "id": "4xY6e7S2k5uu",
    "outputId": "90b1792c-3da8-4b61-8840-37a23010bae0"
   },
   "outputs": [
    {
     "name": "stdout",
     "output_type": "stream",
     "text": [
      "\n",
      "Summary Statistics for Prices by Room Type:\n",
      "                       mean  median         std\n",
      "room_type                                      \n",
      "Entire home/apt  211.794246   160.0  284.041611\n",
      "Private room      89.780973    70.0  160.205262\n",
      "Shared room       70.127586    45.0  101.725252\n"
     ]
    }
   ],
   "source": [
    "room_type_summary = Airbnb_df.groupby('room_type')['price'].agg([np.mean, np.median, np.std])\n",
    "\n",
    "print(\"\\nSummary Statistics for Prices by Room Type:\")\n",
    "print(room_type_summary)"
   ]
  },
  {
   "cell_type": "markdown",
   "metadata": {
    "id": "UkGU5iWU8D0l"
   },
   "source": [
    "---\n",
    "## **BUSINESS CONCLUSION :-**\n",
    "\n"
   ]
  },
  {
   "cell_type": "markdown",
   "metadata": {
    "id": "XFjxoQ5z8i69"
   },
   "source": [
    "*   Manhattan and Brooklyn have the highest demand for Airbnb rentals, as evidenced by the large number of listings in these neighborhoods. This could make them attractive areas for hosts to invest in property.\n",
    "\n",
    "*   Manhattan is world-famous for its parks, museums, buildings, town, liberty, gardens, markets, island and also its substantial number of tourists throughout the year ,it makes sense that demand and price both high.\n",
    "\n",
    "*   Brooklyn comes in second with significant number of listings and cheaper prices as compared to the Manhattan: With most listings located in Williamsburg and Bedford Stuyvesant two neighborhoods strategically close to Manhattan tourists get the chance to enjoy both boroughs equally while spending less.\n",
    "\n",
    "*   Williamsburg, Bedford-Stuyvesant, Harlem, Bushwick, and the Upper West Side are the top neighborhoods in terms of listing counts, indicating strong demand for Airbnb rentals in these areas.\n",
    "\n",
    "*   The average price of a listing in New York City is higher in the center of the city (Manhattan) compared to the outer boroughs. This could indicate that investing in property in Manhattan may be more lucrative for Airbnb rentals.\n",
    "But Manhattan and Brooklyn have the largest number of hosts, indicating a high level of competition in these boroughs.\n",
    "\n",
    "*   The data suggests that Airbnb rentals are primarily used for short-term stays, with relatively few listings requiring a minimum stay of 30 nights or more. Hosts may want to consider investing in property that can accommodate shorter stays in order to maximize their occupancy rate.\n",
    "\n",
    "*   The majority of listings on Airbnb are for entire homes or apartments and also Private Rooms with relatively fewer listings for shared rooms. This suggests that travelers using Airbnb have a wide range of accommodation options to choose from, and hosts may want to consider investing in property that can accommodate multiple guests.\n",
    "\n",
    "*   The data indicates that the availability of Airbnb rentals varies significantly across neighborhoods, with some neighborhoods having a high concentration of listings and others having relatively few.\n",
    "\n",
    "*   The data indicates that there is a high level of competition among Airbnb hosts, with a small number of hosts dominating a large portion of the market. Hosts may want to consider investing in property in areas with relatively fewer listings in order to differentiate themselves from the competition.\n",
    "\n",
    "*   The neighborhoods near the airport in Queens would have a higher average number of reviews, as they are likely to attract a lot of tourists or visitors who are passing through the area. The proximity to the airport could make these neighborhoods a convenient and appealing place to stay for travelers for short-term stay with spending less money because The price distribution is high in Manhattan and Brooklyn."
   ]
  },
  {
   "cell_type": "markdown",
   "metadata": {
    "id": "gypsx6GvLaPq"
   },
   "source": [
    "---\n",
    "\n",
    "# **Thank You**\n",
    "\n",
    "\n"
   ]
  }
 ],
 "metadata": {
  "colab": {
   "provenance": []
  },
  "kernelspec": {
   "display_name": "Python 3 (ipykernel)",
   "language": "python",
   "name": "python3"
  },
  "language_info": {
   "codemirror_mode": {
    "name": "ipython",
    "version": 3
   },
   "file_extension": ".py",
   "mimetype": "text/x-python",
   "name": "python",
   "nbconvert_exporter": "python",
   "pygments_lexer": "ipython3",
   "version": "3.11.3"
  }
 },
 "nbformat": 4,
 "nbformat_minor": 1
}
